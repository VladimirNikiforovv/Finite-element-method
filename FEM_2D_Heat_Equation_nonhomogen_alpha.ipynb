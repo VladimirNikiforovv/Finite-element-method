{
 "cells": [
  {
   "cell_type": "markdown",
   "id": "b3f21215-df73-4bb4-9234-83213122629b",
   "metadata": {},
   "source": [
    "## Решение уравнения теплопроводности в двумерном случае с неоднородными коэффициентами методом конечных элементов    "
   ]
  },
  {
   "cell_type": "markdown",
   "id": "5b599a79-0c2e-4b83-acee-bd91f9f86cbb",
   "metadata": {},
   "source": [
    "Уравнение теплопроводности в 2D имеет вид, вывод в целом аналогичен одномерному случаю\n",
    "\\begin{equation}\n",
    "\\frac{\\partial u(x,y,t)}{\\partial t} = \\alpha^2 \\Delta u(x,y,t) + f(x,y,t)\n",
    "\\end{equation}"
   ]
  },
  {
   "cell_type": "markdown",
   "id": "690d9aa8-8208-4b6e-96cf-aa90468108b4",
   "metadata": {},
   "source": [
    "В вариационном виде:\n",
    "\\begin{equation}\n",
    "\\int_\\Omega \\left(\\frac{\\partial u(x,y,t)}{\\partial t} - \\alpha^2 \\Delta u(x,y,t) - f(x,y,t)\\right)vd\\Omega = 0\n",
    "\\end{equation}"
   ]
  },
  {
   "cell_type": "markdown",
   "id": "f0e9e4e5-c7d8-4640-92a6-3c113c2c0b80",
   "metadata": {},
   "source": [
    "\\begin{equation}\n",
    "\\int_{\\Omega} \\left(\\frac{\\partial u}{\\partial t} v + \\alpha^2 \\nabla u \\nabla v - fv\\right)d\\Omega - \\alpha^2\\int_{\\partial \\Omega}  v \\frac{\\partial u}{\\partial \\mathbf{n}}  d(\\partial \\Omega) = 0\n",
    "\\end{equation}"
   ]
  },
  {
   "cell_type": "markdown",
   "id": "80b44098-b8ea-4bfc-949a-291d00eeefd3",
   "metadata": {},
   "source": [
    "Зануляем так как считаем область изолированной.\n",
    "\\begin{equation}\n",
    "\\alpha^2\\int_{\\partial \\Omega}  v \\frac{\\partial u}{\\partial \\mathbf{n}}  d(\\partial \\Omega) = 0\n",
    "\\end{equation}"
   ]
  },
  {
   "cell_type": "markdown",
   "id": "163e836e-f02e-4000-8226-dfe3b0a2ac3d",
   "metadata": {},
   "source": [
    "\\begin{equation}\n",
    "\\int_{\\Omega} \\left(\\frac{\\partial u}{\\partial t} v + \\alpha^2 \\nabla u \\nabla v - fv\\right)d\\Omega  = 0\n",
    "\\end{equation}"
   ]
  },
  {
   "cell_type": "markdown",
   "id": "646de378-53de-451d-a62f-14124cb1be83",
   "metadata": {},
   "source": [
    "\\begin{equation}\n",
    "\\int_{\\Omega} \\left(\\frac{\\partial u}{\\partial t} v + \\alpha^2  \\left(\\!\\begin{array}{c}  \n",
    " \\partial_x u  & \\partial_y u\n",
    " \\end{array} \\!\\right) \\left(\\!\\begin{array}{c}  \n",
    " \\partial_x v \\\\  \\partial_y v\n",
    " \\end{array} \\!\\right)  - fv\\right)d\\Omega  = 0\n",
    "\\end{equation}"
   ]
  },
  {
   "cell_type": "markdown",
   "id": "0304867d-7173-49c2-80cd-f91d125d7bd9",
   "metadata": {},
   "source": [
    "Пробные функции разобьем по узлам во времени.\n",
    "\\begin{equation}\n",
    "u^h = \\sum_{i}^N Q_i(t)\\phi_i(x, y)\n",
    "\\end{equation}\n",
    "Q - соответствует значению в i-том узле во время t\n",
    "\\begin{equation}\n",
    "Q_i(t) = Q(x_i,y_i, t)\n",
    "\\end{equation}"
   ]
  },
  {
   "cell_type": "markdown",
   "id": "dc022671-abd6-47c1-9468-3fa17f91f7e6",
   "metadata": {},
   "source": [
    "\\begin{equation}\n",
    "\\int_{\\Omega} \\left(\\frac{\\partial u}{\\partial t} v + \\alpha^2  \\left(\\!\\begin{array}{c}  \n",
    " \\partial_x u  & \\partial_y u\n",
    " \\end{array} \\!\\right) \\left(\\!\\begin{array}{c}  \n",
    " \\partial_x v \\\\  \\partial_y v\n",
    " \\end{array} \\!\\right) \\right) d\\Omega   = \\int_{\\Omega}fvd\\Omega  \n",
    "\\end{equation}"
   ]
  },
  {
   "cell_type": "markdown",
   "id": "6d14869f-83a9-49e4-a5b9-53edc3892445",
   "metadata": {},
   "source": [
    "$$Au=f$$\n",
    "\n",
    "$$(Au_n, v_n)=(f,v_n)$$"
   ]
  },
  {
   "cell_type": "markdown",
   "id": "3c711023-b871-4631-b8ff-1f6dd3bfa74e",
   "metadata": {},
   "source": [
    "$$(Au_n, \\sum_{j}^N Q_j(t)\\phi_j(x, y))=(f,\\sum_{j}^N Q_j(t)\\phi_j(x, y))$$"
   ]
  },
  {
   "cell_type": "markdown",
   "id": "2f68685f-fb2d-48d8-bc53-18414b7e2025",
   "metadata": {},
   "source": [
    "$$\\sum_{j}^N(Au_n,  Q_j(t)\\phi_j(x, y))=\\sum_{j}^N (f,Q_j(t)\\phi_j(x, y))$$"
   ]
  },
  {
   "cell_type": "markdown",
   "id": "02994d32-a060-4bdc-8911-7d01b62e03a2",
   "metadata": {},
   "source": [
    "$$\\sum_{j}^NQ_j(t)(Au_n,  \\phi_j(x, y))=\\sum_{j}^NQ_j(t) (f,\\phi_j(x, y))$$"
   ]
  },
  {
   "cell_type": "markdown",
   "id": "906d1f40-cb8f-4271-bf32-591d1c19ddfe",
   "metadata": {},
   "source": [
    "$$(Au_n, \\phi_j(x, y))=(f, \\phi_j(x, y))$$\n",
    "$$j=0,1,..,N$$"
   ]
  },
  {
   "cell_type": "markdown",
   "id": "7f99f960-a24e-4b17-8ba9-6a9502ecdf63",
   "metadata": {},
   "source": [
    "\\begin{equation}\n",
    "\\int_{\\Omega} \\left(\\left(\\sum_{i}^N \\frac{\\partial }{\\partial t}Q_i(t)\\phi_i(x, y)\\right) \\phi_j(x, y) + \\alpha^2  \\left(\\!\\begin{array}{c}  \n",
    "  \\sum_{i}^N Q_i(t)\\partial_x\\phi_i(x, y)  &  \\sum_{i}^N Q_i(t)\\partial_y\\phi_i(x, y)\n",
    " \\end{array} \\!\\right) \\left(\\!\\begin{array}{c}  \n",
    " \\partial_x \\phi_j(x, y) \\\\  \\partial_y \\phi_j(x, y)\n",
    " \\end{array} \\!\\right) \\right) d\\Omega   = \\int_{\\Omega}f\\phi_j(x, y)d\\Omega  \n",
    "\\end{equation}"
   ]
  },
  {
   "cell_type": "markdown",
   "id": "49ddf235-4bf9-4d50-99f2-4e726df0835e",
   "metadata": {},
   "source": [
    "\\begin{equation}\n",
    "\\int_{\\Omega} \\left(\\left(\\sum_{i}^N \\frac{\\partial }{\\partial t}Q_i(t)\\phi_i(x, y)\\right) \\phi_j(x, y) + \\alpha^2  \\sum_{i}^N Q_i(t)\\left(\\!\\begin{array}{c}  \n",
    "  \\partial_x\\phi_i(x, y)  &  \\partial_y\\phi_i(x, y)\n",
    " \\end{array} \\!\\right) \\left(\\!\\begin{array}{c}  \n",
    " \\partial_x \\phi_j(x, y) \\\\  \\partial_y \\phi_j(x, y)\n",
    " \\end{array} \\!\\right) \\right) d\\Omega   = \\int_{\\Omega}f\\phi_j(x, y)d\\Omega  \n",
    "\\end{equation}"
   ]
  },
  {
   "cell_type": "markdown",
   "id": "79b1dfad-0014-4226-862b-afc81549edc0",
   "metadata": {},
   "source": [
    "\\begin{equation}\n",
    "\\int_{\\Omega} \\left(\\sum_{i}^N \\frac{\\partial }{\\partial t}Q_i(t)\\phi_i(x, y)\\right) \\phi_j(x, y)d\\Omega + \\int_{\\Omega}\\left( \\alpha^2  \\sum_{i}^N Q_i(t)\\left(\\!\\begin{array}{c}  \n",
    "  \\partial_x\\phi_i(x, y)  &  \\partial_y\\phi_i(x, y)\n",
    " \\end{array} \\!\\right) \\left(\\!\\begin{array}{c}  \n",
    " \\partial_x \\phi_j(x, y) \\\\  \\partial_y \\phi_j(x, y)\n",
    " \\end{array} \\!\\right) \\right) d\\Omega   = \\int_{\\Omega}f\\phi_j(x, y)d\\Omega  \n",
    "\\end{equation}"
   ]
  },
  {
   "cell_type": "markdown",
   "id": "b7c62a41-a336-452e-baf4-572f7eda6352",
   "metadata": {},
   "source": [
    "\\begin{equation}\n",
    "\\sum_{i}^N\\frac{\\partial }{\\partial t}Q_i(t) \\int_{\\Omega} \\phi_i(x, y) \\phi_j(x, y)d\\Omega + \\alpha^2  \\sum_{i}^NQ_i(t)\\int_{\\Omega}\\left(  \\left(\\!\\begin{array}{c}  \n",
    "  \\partial_x\\phi_i(x, y)  &  \\partial_y\\phi_i(x, y)\n",
    " \\end{array} \\!\\right) \\left(\\!\\begin{array}{c}  \n",
    " \\partial_x \\phi_j(x, y) \\\\  \\partial_y \\phi_j(x, y)\n",
    " \\end{array} \\!\\right) \\right) d\\Omega   = \\int_{\\Omega}f\\phi_j(x, y)d\\Omega  \n",
    "\\end{equation}"
   ]
  },
  {
   "cell_type": "markdown",
   "id": "bb36b549-1168-4764-940b-20ef84bb5b10",
   "metadata": {},
   "source": [
    "Переходя к векторной записи аналагичной выводу для одномерного случая, имеем:\n",
    "\\begin{equation}\n",
    "K\\partial_t Q + \\alpha^2 M Q = F\n",
    "\\end{equation}"
   ]
  },
  {
   "cell_type": "markdown",
   "id": "7f43a1cc-1841-4f98-81ac-05351107d9c1",
   "metadata": {},
   "source": [
    "Как и с одномерным случаем по времени используем метод Кранка-Николсона:\n",
    "\\begin{equation}\n",
    "(K + \\alpha^2 \\frac{\\Delta t}{2} M) Q^{n+1}  = \\frac{\\Delta t}{2}(F^n + F^{n+1}) + (K-\\alpha^2 \\frac{\\Delta t}{2}M) Q^n\n",
    "\\end{equation}"
   ]
  },
  {
   "cell_type": "markdown",
   "id": "d94a41dc-b3d4-44ba-9bd4-bf93ec4f02fc",
   "metadata": {},
   "source": [
    "Где:\n",
    "\\begin{equation}\n",
    "K_{i,j} = \\int_{\\Omega} \\phi_i(x,y) \\phi_j(x,y)d\\Omega\n",
    "\\end{equation}\n",
    "\\begin{equation}\n",
    "M_{i,j} = \\int_{\\Omega}\\left(  \\left(\\!\\begin{array}{c}  \n",
    "  \\partial_x\\phi_i(x, y)  &  \\partial_y\\phi_i(x, y)\n",
    " \\end{array} \\!\\right) \\left(\\!\\begin{array}{c}  \n",
    " \\partial_x \\phi_j(x, y) \\\\  \\partial_y \\phi_j(x, y)\n",
    " \\end{array} \\!\\right) \\right) d\\Omega\n",
    "\\end{equation}\n",
    "\\begin{equation}\n",
    "F =  \\begin{pmatrix}\n",
    "  \\int_{\\Omega} f\\phi_0(x,y))d\\Omega \\\\\n",
    "  \\int_{\\Omega} f\\phi_1(x,y))d\\Omega \\\\\n",
    "  \\vdots  \\\\\n",
    "  \\int_{\\Omega}f \\phi_N(x,y))d\\Omega \n",
    " \\end{pmatrix}\n",
    "\\end{equation}"
   ]
  },
  {
   "cell_type": "markdown",
   "id": "6c0e09a7-8599-46bb-ad53-3c550e1832df",
   "metadata": {},
   "source": [
    "Если же $\\alpha$ - меняется в зависимости от пространства\n",
    "\\begin{equation}\n",
    "\\int_\\Omega \\alpha(x,y)^2 v\\Delta u(x,y,t)d\\Omega = 0\n",
    "\\end{equation}\n",
    "$$\\nabla \\cdot (v\\nabla  u) = v \\Delta u + \\nabla v \\nabla u$$\n",
    "$$\\nabla \\cdot (\\alpha(x,y)^2 v\\nabla  u) = \\alpha(x,y)^2 v \\Delta u + \\nabla \\alpha(x,y)^2 v \\nabla u$$\n",
    "$$\\int_{\\Omega}\\nabla \\cdot (\\alpha(x,y)^2 v\\nabla  u) d\\Omega = \\int_{\\Omega} \\alpha(x,y)^2 v \\Delta u d\\Omega + \\int_{\\Omega}\\nabla \\alpha(x,y)^2 v \\nabla u d\\Omega$$\n",
    "$$\\int_{\\Omega}\\nabla \\cdot (\\alpha(x,y)^2 v\\nabla  u) d\\Omega = \\int_{\\partial \\Omega}  \\alpha(x,y)^2 v\\nabla (u\\cdot \\mathbf{n}) d(\\partial \\Omega)$$\n",
    "$$ \\int_{\\Omega} \\alpha(x,y)^2 v \\Delta u d\\Omega + \\int_{\\Omega}\\nabla \\alpha(x,y)^2 v \\nabla u d\\Omega= \\int_{\\partial \\Omega}  \\alpha(x,y)^2 v\\nabla (u\\cdot \\mathbf{n}) d(\\partial \\Omega)$$\n",
    "$$ \\int_{\\Omega} \\alpha(x,y)^2 v \\Delta u d\\Omega + \\int_{\\Omega}\\nabla \\alpha(x,y)^2 v \\nabla u d\\Omega= \\int_{\\partial \\Omega}  \\alpha(x,y)^2 v\\frac{\\partial u}{\\partial \\mathbf{n}} d(\\partial \\Omega)$$\n",
    "$$ \\int_{\\Omega} \\alpha(x,y)^2 v \\Delta u d\\Omega = - \\int_{\\Omega}\\nabla \\alpha(x,y)^2 v \\nabla u d\\Omega + \\int_{\\partial \\Omega}  \\alpha(x,y)^2 v\\frac{\\partial u}{\\partial \\mathbf{n}} d(\\partial \\Omega)$$"
   ]
  },
  {
   "cell_type": "markdown",
   "id": "a7ab66cc-ada4-4257-bcaf-e260d3a1d32e",
   "metadata": {},
   "source": [
    "\\begin{equation}\n",
    "M_{i,j} = \\int_{\\Omega}\\left(  \\left(\\!\\begin{array}{c}  \n",
    "  \\partial_x\\alpha(x,y)^2\\phi_i(x, y)  &  \\partial_y\\alpha(x,y)^2\\phi_i(x, y)\n",
    " \\end{array} \\!\\right) \\left(\\!\\begin{array}{c}  \n",
    " \\partial_x \\phi_j(x, y) \\\\  \\partial_y \\phi_j(x, y)\n",
    " \\end{array} \\!\\right) \\right) d\\Omega\n",
    "\\end{equation}"
   ]
  },
  {
   "cell_type": "markdown",
   "id": "5d9cbaf2-79a0-44d2-be98-89d05667cde6",
   "metadata": {},
   "source": [
    "Не забывая учесть условия граници раздела сред"
   ]
  },
  {
   "cell_type": "markdown",
   "id": "def4106a-1a47-45f8-9840-d0cd759fbae8",
   "metadata": {},
   "source": [
    "## Демонстрация решения"
   ]
  },
  {
   "cell_type": "code",
   "execution_count": 11,
   "id": "271b496e-af4c-4d24-a1b1-ff0be5f7768a",
   "metadata": {},
   "outputs": [],
   "source": [
    "from FEM_2D_Heat_Equation_nonhomogen_alpha import *"
   ]
  },
  {
   "cell_type": "markdown",
   "id": "3f315f12-2edd-498a-bc66-8748fe92a717",
   "metadata": {},
   "source": [
    "Создаем объект класса и задаем соответствующие значения, необходимые библиотеки импортированы в классе"
   ]
  },
  {
   "cell_type": "code",
   "execution_count": 39,
   "id": "d05ad0b9-863b-40f7-8033-25f03e8701a0",
   "metadata": {},
   "outputs": [],
   "source": [
    "test = Heat_Equation(N = 40, T = 1000, L = 0.1, C = 0.01)"
   ]
  },
  {
   "cell_type": "markdown",
   "id": "6927b4a0-865c-4f68-ac01-74902f438597",
   "metadata": {},
   "source": [
    "Обозначаем начальные условия в виде распределения температуры Гауссовой шляпкой\n",
    "$$u_{init} = Ae^{-\\left((x-x_0)^2 + (y-y_0)^2 \\right)\\delta}$$"
   ]
  },
  {
   "cell_type": "code",
   "execution_count": 40,
   "id": "fbdc60bd-9f3e-4adc-898c-64908ac96483",
   "metadata": {},
   "outputs": [],
   "source": [
    "N = 40\n",
    "T = 1000\n",
    "L = 0.1\n",
    "C = 0.01\n",
    "x = np.linspace(0, L, N)\n",
    "y = x\n",
    "h = x[1]-x[0]\n",
    "dt = (h**2)*C"
   ]
  },
  {
   "cell_type": "code",
   "execution_count": 41,
   "id": "b923a066-1fe6-4bf6-b73f-deca6c560f0a",
   "metadata": {},
   "outputs": [],
   "source": [
    "initial_condition = np.zeros((N,N), dtype=np.float64)\n",
    "\n",
    "for k in range(0,N):\n",
    "    for l in range(0,N):\n",
    "        initial_condition[k,l] =  10*np.exp((-(x[k]- L/4)**2 - (y[l]- L/4)**2)/0.0003)"
   ]
  },
  {
   "cell_type": "markdown",
   "id": "486f53f2-3423-43b3-8df2-34535977d072",
   "metadata": {},
   "source": [
    "Задаем распределение коэффициентов $\\alpha(x,y)$ - например однородная среда"
   ]
  },
  {
   "cell_type": "code",
   "execution_count": 15,
   "id": "d3a2c91a-7bf6-4984-80ba-e62f1a8bc382",
   "metadata": {},
   "outputs": [],
   "source": [
    "alpha_test = 4*np.ones((N, N))"
   ]
  },
  {
   "cell_type": "markdown",
   "id": "54fba75e-e853-4b1a-8a73-96c6879bd582",
   "metadata": {},
   "source": [
    "Вычисляем соответствующие базисные функции и передаем распределение коэффициентов и начальные условия"
   ]
  },
  {
   "cell_type": "code",
   "execution_count": 19,
   "id": "ff78d169-ed00-445e-b981-980c09497d1a",
   "metadata": {},
   "outputs": [],
   "source": [
    "test.matrix_metod.set_alpha(alpha_test)\n",
    "test.matrix_metod.calc_set_phi()\n",
    "test.matrix_metod.set_init(initial_condition)"
   ]
  },
  {
   "cell_type": "markdown",
   "id": "0a1dae68-56db-4490-9ff1-8e0913287bf8",
   "metadata": {},
   "source": [
    "Вычислим решение, а также замерим время выполнения программы"
   ]
  },
  {
   "cell_type": "code",
   "execution_count": 22,
   "id": "9ed74b70-ca2c-45d8-bb87-c4324e7c34c9",
   "metadata": {},
   "outputs": [
    {
     "name": "stdout",
     "output_type": "stream",
     "text": [
      "Время старта: 2024-04-27 15:55:50.683106\n",
      "Время окончания: 2024-04-27 16:02:57.461942\n",
      "Время работы: 0:07:06.778836\n"
     ]
    }
   ],
   "source": [
    "start = datetime.datetime.now()\n",
    "print('Время старта: ' + str(start))\n",
    "\n",
    "test.matrix_metod.calc_matrix()\n",
    "test.matrix_metod.calc_right_part()\n",
    "test.matrix_metod.calc_time_dependent()\n",
    "\n",
    "finish = datetime.datetime.now()\n",
    "print('Время окончания: ' + str(finish))\n",
    "print('Время работы: ' + str(finish - start)) "
   ]
  },
  {
   "cell_type": "markdown",
   "id": "ec2700d2-fd55-406e-a030-683afdbd19dc",
   "metadata": {},
   "source": [
    "Вывод анимации и ее сохранение"
   ]
  },
  {
   "cell_type": "code",
   "execution_count": null,
   "id": "2c8a92eb-744c-49ed-a446-b7a240517191",
   "metadata": {},
   "outputs": [],
   "source": [
    "test.animation(min_scale = 0, max_scale = 2, name = \"homogen_alpha.gif\")"
   ]
  },
  {
   "cell_type": "markdown",
   "id": "dac16359-c846-4256-a085-35d0a6de6473",
   "metadata": {},
   "source": [
    "Так выглядит результат вычислений"
   ]
  },
  {
   "cell_type": "markdown",
   "id": "1ba1c40b-729e-4fc4-9c56-c2025ff0e5b1",
   "metadata": {},
   "source": [
    "<img src='homogen_alpha.gif' width=1000, heigth=1000>"
   ]
  },
  {
   "cell_type": "markdown",
   "id": "ec5bf7c4-2c13-4ae7-8db9-c231c03780af",
   "metadata": {},
   "source": [
    "Две среды с разными коэффициентами"
   ]
  },
  {
   "cell_type": "code",
   "execution_count": 23,
   "id": "bfa70248-1431-4b4f-8a69-2583523251a1",
   "metadata": {},
   "outputs": [],
   "source": [
    "alpha_test_2 = np.zeros((N, N))\n",
    "alpha_test_2[:int(N/2),:] = 8\n",
    "alpha_test_2[int(N/2):,:] = 16"
   ]
  },
  {
   "cell_type": "code",
   "execution_count": 24,
   "id": "15769f03-8e69-494b-aff6-0a5f7ca3e878",
   "metadata": {},
   "outputs": [],
   "source": [
    "test.matrix_metod.set_alpha(alpha_test_2)\n",
    "test.matrix_metod.calc_set_phi()\n",
    "test.matrix_metod.set_init(initial_condition)"
   ]
  },
  {
   "cell_type": "code",
   "execution_count": 25,
   "id": "74e57787-f178-4706-aa51-ed02b50331ca",
   "metadata": {},
   "outputs": [
    {
     "name": "stdout",
     "output_type": "stream",
     "text": [
      "Время старта: 2024-04-27 16:05:25.315319\n",
      "Время окончания: 2024-04-27 16:12:06.434707\n",
      "Время работы: 0:06:41.119388\n"
     ]
    }
   ],
   "source": [
    "start = datetime.datetime.now()\n",
    "print('Время старта: ' + str(start))\n",
    "\n",
    "test.matrix_metod.calc_matrix()\n",
    "test.matrix_metod.calc_right_part()\n",
    "test.matrix_metod.calc_time_dependent()\n",
    "\n",
    "finish = datetime.datetime.now()\n",
    "print('Время окончания: ' + str(finish))\n",
    "print('Время работы: ' + str(finish - start)) "
   ]
  },
  {
   "cell_type": "code",
   "execution_count": null,
   "id": "20271f13-61b2-4459-a52e-40e8186a7b0f",
   "metadata": {},
   "outputs": [],
   "source": [
    "test.animation(min_scale = 0, max_scale = 1.5, name = \"alpha_2_area.gif\")"
   ]
  },
  {
   "cell_type": "markdown",
   "id": "150f59ed-2653-4995-b2ae-429ccaf06908",
   "metadata": {},
   "source": [
    "<img src='alpha_2_area.gif' width=1000, heigth=1000>"
   ]
  },
  {
   "cell_type": "markdown",
   "id": "4656e26f-54d7-4f11-9a4c-308f25dc2788",
   "metadata": {},
   "source": [
    "Введем три области, как две вложенные окружности во внешней среде"
   ]
  },
  {
   "cell_type": "code",
   "execution_count": 57,
   "id": "1bee4ad1-ea98-44aa-959e-19c07ae981d9",
   "metadata": {},
   "outputs": [],
   "source": [
    "alpha_test_3 = np.zeros((N, N))\n",
    "\n",
    "for i in range(0, N):\n",
    "    for j in range(0, N):\n",
    "        if (i-N/2)**2 + (j-N/2)**2  < 5**2: \n",
    "            alpha_test_3[i,j] = 14\n",
    "        elif ((i-N/2)**2 + (j-N/2)**2  >= 5**2 \n",
    "              and (i-N/2)**2 + (j-N/2)**2 < 10**2):\n",
    "            alpha_test_3[i,j] = 8\n",
    "        else:\n",
    "            alpha_test_3[i,j] = 15"
   ]
  },
  {
   "cell_type": "code",
   "execution_count": 58,
   "id": "cc6492bf-a03b-47af-bb95-55723627a392",
   "metadata": {},
   "outputs": [
    {
     "data": {
      "text/plain": [
       "<matplotlib.image.AxesImage at 0x14dc35d8e90>"
      ]
     },
     "execution_count": 58,
     "metadata": {},
     "output_type": "execute_result"
    },
    {
     "data": {
      "image/png": "[encoded data removed]",
      "text/plain": [
       "<Figure size 640x480 with 1 Axes>"
      ]
     },
     "metadata": {},
     "output_type": "display_data"
    }
   ],
   "source": [
    "plt.imshow(alpha_test_3)"
   ]
  },
  {
   "cell_type": "code",
   "execution_count": 59,
   "id": "507d7278-1c3d-424a-87e1-e080ce1f42de",
   "metadata": {},
   "outputs": [],
   "source": [
    "test.matrix_metod.set_alpha(alpha_test_3)\n",
    "test.matrix_metod.calc_set_phi()\n",
    "test.matrix_metod.set_init(initial_condition)"
   ]
  },
  {
   "cell_type": "code",
   "execution_count": 60,
   "id": "4980aa72-24ad-4adf-9002-08fc117b9d56",
   "metadata": {},
   "outputs": [
    {
     "name": "stdout",
     "output_type": "stream",
     "text": [
      "Время старта: 2024-04-27 17:23:37.562918\n",
      "Время окончания: 2024-04-27 17:29:51.414464\n",
      "Время работы: 0:06:13.851546\n"
     ]
    }
   ],
   "source": [
    "start = datetime.datetime.now()\n",
    "print('Время старта: ' + str(start))\n",
    "\n",
    "test.matrix_metod.calc_matrix()\n",
    "test.matrix_metod.calc_right_part()\n",
    "test.matrix_metod.calc_time_dependent()\n",
    "\n",
    "finish = datetime.datetime.now()\n",
    "print('Время окончания: ' + str(finish))\n",
    "print('Время работы: ' + str(finish - start)) "
   ]
  },
  {
   "cell_type": "code",
   "execution_count": null,
   "id": "662d74e2-a990-4281-a756-1e60cb58299e",
   "metadata": {},
   "outputs": [],
   "source": [
    "test.animation(min_scale = 0, max_scale = 1.2, name = \"alpha_3_area.gif\")"
   ]
  },
  {
   "cell_type": "markdown",
   "id": "cd805b06-ea1e-4977-ba53-81ae6fcb8efe",
   "metadata": {},
   "source": [
    "<img src='alpha_3_area.gif' width=1000, heigth=1000>"
   ]
  }
 ],
 "metadata": {
  "kernelspec": {
   "display_name": "Python 3 (ipykernel)",
   "language": "python",
   "name": "python3"
  },
  "language_info": {
   "codemirror_mode": {
    "name": "ipython",
    "version": 3
   },
   "file_extension": ".py",
   "mimetype": "text/x-python",
   "name": "python",
   "nbconvert_exporter": "python",
   "pygments_lexer": "ipython3",
   "version": "3.11.7"
  }
 },
 "nbformat": 4,
 "nbformat_minor": 5
}
