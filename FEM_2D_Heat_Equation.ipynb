{
 "cells": [
  {
   "cell_type": "code",
   "execution_count": 1079,
   "id": "9d4ee48c-55b5-498b-940a-08f20e98d6bd",
   "metadata": {},
   "outputs": [],
   "source": [
    "import numpy as np\n",
    "import matplotlib.pyplot as plt\n",
    "from scipy.spatial import Delaunay\n",
    "import triangle as tr\n",
    "from numba import njit"
   ]
  },
  {
   "cell_type": "markdown",
   "id": "5b599a79-0c2e-4b83-acee-bd91f9f86cbb",
   "metadata": {},
   "source": [
    "Уравнение теплопроводности в 2D имеет вид:\n",
    "\\begin{equation}\n",
    "\\frac{\\partial u(x,y,t)}{\\partial t} = \\alpha^2 \\Delta u(x,y,t) + f(x,y,t)\n",
    "\\end{equation}"
   ]
  },
  {
   "cell_type": "markdown",
   "id": "690d9aa8-8208-4b6e-96cf-aa90468108b4",
   "metadata": {},
   "source": [
    "В вариационном виде:\n",
    "\\begin{equation}\n",
    "\\int_\\Omega \\left(\\frac{\\partial u(x,y,t)}{\\partial t} - \\alpha^2 \\Delta u(x,y,t) - f(x,y,t)\\right)vd\\Omega = 0\n",
    "\\end{equation}"
   ]
  },
  {
   "cell_type": "markdown",
   "id": "f0e9e4e5-c7d8-4640-92a6-3c113c2c0b80",
   "metadata": {},
   "source": [
    "\\begin{equation}\n",
    "\\int_{\\Omega} \\left(\\frac{\\partial u}{\\partial t} v + \\alpha^2 \\nabla u \\nabla v - fv\\right)d\\Omega - \\alpha^2\\int_{\\partial \\Omega}  v \\frac{\\partial u}{\\partial \\mathbf{n}}  d(\\partial \\Omega) = 0\n",
    "\\end{equation}"
   ]
  },
  {
   "cell_type": "markdown",
   "id": "80b44098-b8ea-4bfc-949a-291d00eeefd3",
   "metadata": {},
   "source": [
    "Зануляем так как считаем область изолированной.\n",
    "\\begin{equation}\n",
    "\\alpha^2\\int_{\\partial \\Omega}  v \\frac{\\partial u}{\\partial \\mathbf{n}}  d(\\partial \\Omega) = 0\n",
    "\\end{equation}"
   ]
  },
  {
   "cell_type": "markdown",
   "id": "163e836e-f02e-4000-8226-dfe3b0a2ac3d",
   "metadata": {},
   "source": [
    "\\begin{equation}\n",
    "\\int_{\\Omega} \\left(\\frac{\\partial u}{\\partial t} v + \\alpha^2 \\nabla u \\nabla v - fv\\right)d\\Omega  = 0\n",
    "\\end{equation}"
   ]
  },
  {
   "cell_type": "markdown",
   "id": "646de378-53de-451d-a62f-14124cb1be83",
   "metadata": {},
   "source": [
    "\\begin{equation}\n",
    "\\int_{\\Omega} \\left(\\frac{\\partial u}{\\partial t} v + \\alpha^2  \\left(\\!\\begin{array}{c}  \n",
    " \\partial_x u  & \\partial_y u\n",
    " \\end{array} \\!\\right) \\left(\\!\\begin{array}{c}  \n",
    " \\partial_x v \\\\  \\partial_y v\n",
    " \\end{array} \\!\\right)  - fv\\right)d\\Omega  = 0\n",
    "\\end{equation}"
   ]
  },
  {
   "cell_type": "markdown",
   "id": "0304867d-7173-49c2-80cd-f91d125d7bd9",
   "metadata": {},
   "source": [
    "Пробные функции разобьем по узлам во времени.\n",
    "\\begin{equation}\n",
    "u^h = \\sum_{i}^N Q_i(t)\\phi_i(x, y)\n",
    "\\end{equation}\n",
    "Q - соответствует значению в i-том узле во время t\n",
    "\\begin{equation}\n",
    "Q_i(t) = Q(x_i,y_i, t)\n",
    "\\end{equation}"
   ]
  },
  {
   "cell_type": "markdown",
   "id": "dc022671-abd6-47c1-9468-3fa17f91f7e6",
   "metadata": {},
   "source": [
    "\\begin{equation}\n",
    "\\int_{\\Omega} \\left(\\frac{\\partial u}{\\partial t} v + \\alpha^2  \\left(\\!\\begin{array}{c}  \n",
    " \\partial_x u  & \\partial_y u\n",
    " \\end{array} \\!\\right) \\left(\\!\\begin{array}{c}  \n",
    " \\partial_x v \\\\  \\partial_y v\n",
    " \\end{array} \\!\\right) \\right) d\\Omega   = \\int_{\\Omega}fvd\\Omega  \n",
    "\\end{equation}"
   ]
  },
  {
   "cell_type": "markdown",
   "id": "6d14869f-83a9-49e4-a5b9-53edc3892445",
   "metadata": {},
   "source": [
    "$$Au=f$$\n",
    "\n",
    "$$(Au_n, v_n)=(f,v_n)$$"
   ]
  },
  {
   "cell_type": "markdown",
   "id": "3c711023-b871-4631-b8ff-1f6dd3bfa74e",
   "metadata": {},
   "source": [
    "\n",
    "$$(Au_n, \\sum_{j}^N Q_j(t)\\phi_j(x, y))=(f,\\sum_{j}^N Q_j(t)\\phi_j(x, y))$$"
   ]
  },
  {
   "cell_type": "markdown",
   "id": "2f68685f-fb2d-48d8-bc53-18414b7e2025",
   "metadata": {},
   "source": [
    "\n",
    "$$\\sum_{j}^N(Au_n,  Q_j(t)\\phi_j(x, y))=\\sum_{j}^N (f,Q_j(t)\\phi_j(x, y))$$"
   ]
  },
  {
   "cell_type": "markdown",
   "id": "e5fc8c56-6a88-4e83-ab98-6700ec3c619c",
   "metadata": {},
   "source": [
    "\n",
    "$$\\sum_{j}^NQ_j(t)(Au_n,  \\phi_j(x, y))=\\sum_{j}^NQ_j(t) (f,\\phi_j(x, y))$$"
   ]
  },
  {
   "cell_type": "markdown",
   "id": "02994d32-a060-4bdc-8911-7d01b62e03a2",
   "metadata": {},
   "source": [
    "\n",
    "$$\\sum_{j}^NQ_j(t)(Au_n,  \\phi_j(x, y))=\\sum_{j}^NQ_j(t) (f,\\phi_j(x, y))$$"
   ]
  },
  {
   "cell_type": "markdown",
   "id": "906d1f40-cb8f-4271-bf32-591d1c19ddfe",
   "metadata": {},
   "source": [
    "$$(Au_n, \\phi_j(x, y))=(f, \\phi_j(x, y))$$\n",
    "$$j=0,1,..,N$$"
   ]
  },
  {
   "cell_type": "markdown",
   "id": "7f99f960-a24e-4b17-8ba9-6a9502ecdf63",
   "metadata": {},
   "source": [
    "\\begin{equation}\n",
    "\\int_{\\Omega} \\left(\\left(\\sum_{i}^N \\frac{\\partial }{\\partial t}Q_i(t)\\phi_i(x, y)\\right) \\phi_j(x, y) + \\alpha^2  \\left(\\!\\begin{array}{c}  \n",
    "  \\sum_{i}^N Q_i(t)\\partial_x\\phi_i(x, y)  &  \\sum_{i}^N Q_i(t)\\partial_y\\phi_i(x, y)\n",
    " \\end{array} \\!\\right) \\left(\\!\\begin{array}{c}  \n",
    " \\partial_x \\phi_j(x, y) \\\\  \\partial_y \\phi_j(x, y)\n",
    " \\end{array} \\!\\right) \\right) d\\Omega   = \\int_{\\Omega}f\\phi_j(x, y)d\\Omega  \n",
    "\\end{equation}"
   ]
  },
  {
   "cell_type": "markdown",
   "id": "49ddf235-4bf9-4d50-99f2-4e726df0835e",
   "metadata": {},
   "source": [
    "\\begin{equation}\n",
    "\\int_{\\Omega} \\left(\\left(\\sum_{i}^N \\frac{\\partial }{\\partial t}Q_i(t)\\phi_i(x, y)\\right) \\phi_j(x, y) + \\alpha^2  \\sum_{i}^N Q_i(t)\\left(\\!\\begin{array}{c}  \n",
    "  \\partial_x\\phi_i(x, y)  &  \\partial_y\\phi_i(x, y)\n",
    " \\end{array} \\!\\right) \\left(\\!\\begin{array}{c}  \n",
    " \\partial_x \\phi_j(x, y) \\\\  \\partial_y \\phi_j(x, y)\n",
    " \\end{array} \\!\\right) \\right) d\\Omega   = \\int_{\\Omega}f\\phi_j(x, y)d\\Omega  \n",
    "\\end{equation}"
   ]
  },
  {
   "cell_type": "markdown",
   "id": "79b1dfad-0014-4226-862b-afc81549edc0",
   "metadata": {},
   "source": [
    "\\begin{equation}\n",
    "\\int_{\\Omega} \\left(\\sum_{i}^N \\frac{\\partial }{\\partial t}Q_i(t)\\phi_i(x, y)\\right) \\phi_j(x, y)d\\Omega + \\int_{\\Omega}\\left( \\alpha^2  \\sum_{i}^N Q_i(t)\\left(\\!\\begin{array}{c}  \n",
    "  \\partial_x\\phi_i(x, y)  &  \\partial_y\\phi_i(x, y)\n",
    " \\end{array} \\!\\right) \\left(\\!\\begin{array}{c}  \n",
    " \\partial_x \\phi_j(x, y) \\\\  \\partial_y \\phi_j(x, y)\n",
    " \\end{array} \\!\\right) \\right) d\\Omega   = \\int_{\\Omega}f\\phi_j(x, y)d\\Omega  \n",
    "\\end{equation}"
   ]
  },
  {
   "cell_type": "markdown",
   "id": "b7c62a41-a336-452e-baf4-572f7eda6352",
   "metadata": {},
   "source": [
    "\\begin{equation}\n",
    "\\sum_{i}^N\\frac{\\partial }{\\partial t}Q_i(t) \\int_{\\Omega} \\phi_i(x, y) \\phi_j(x, y)d\\Omega + \\alpha^2  \\sum_{i}^NQ_i(t)\\int_{\\Omega}\\left(  \\left(\\!\\begin{array}{c}  \n",
    "  \\partial_x\\phi_i(x, y)  &  \\partial_y\\phi_i(x, y)\n",
    " \\end{array} \\!\\right) \\left(\\!\\begin{array}{c}  \n",
    " \\partial_x \\phi_j(x, y) \\\\  \\partial_y \\phi_j(x, y)\n",
    " \\end{array} \\!\\right) \\right) d\\Omega   = \\int_{\\Omega}f\\phi_j(x, y)d\\Omega  \n",
    "\\end{equation}"
   ]
  },
  {
   "cell_type": "markdown",
   "id": "bb36b549-1168-4764-940b-20ef84bb5b10",
   "metadata": {},
   "source": [
    "Переходя к векторной записи аналагичной выводу для одномерного случая, имеем:\n",
    "\\begin{equation}\n",
    "K\\partial_t Q + \\alpha^2 M Q = F\n",
    "\\end{equation}"
   ]
  },
  {
   "cell_type": "markdown",
   "id": "7f43a1cc-1841-4f98-81ac-05351107d9c1",
   "metadata": {},
   "source": [
    "как и с одномерным случаем по времени используем метод Кранка-Николсона:\n",
    "\\begin{equation}\n",
    "(K + \\alpha^2 \\frac{\\Delta t}{2} M) Q^{n+1}  = \\frac{\\Delta t}{2}(F^n + F^{n+1}) + (K-\\alpha^2 \\frac{\\Delta t}{2}M) Q^n\n",
    "\\end{equation}"
   ]
  },
  {
   "cell_type": "markdown",
   "id": "d94a41dc-b3d4-44ba-9bd4-bf93ec4f02fc",
   "metadata": {},
   "source": [
    "Где:\n",
    "\\begin{equation}\n",
    "K_{i,j} = \\int_{\\Omega} \\phi_i(x,y) \\phi_j(x,y)d\\Omega\n",
    "\\end{equation}\n",
    "\\begin{equation}\n",
    "M_{i,j} = \\int_{\\Omega}\\left(  \\left(\\!\\begin{array}{c}  \n",
    "  \\partial_x\\phi_i(x, y)  &  \\partial_y\\phi_i(x, y)\n",
    " \\end{array} \\!\\right) \\left(\\!\\begin{array}{c}  \n",
    " \\partial_x \\phi_j(x, y) \\\\  \\partial_y \\phi_j(x, y)\n",
    " \\end{array} \\!\\right) \\right) d\\Omega\n",
    "\\end{equation}\n",
    "\\begin{equation}\n",
    "F =  \\begin{pmatrix}\n",
    "  \\int_{\\Omega} f\\phi_0(x,y))d\\Omega \\\\\n",
    "  \\int_{\\Omega} f\\phi_1(x,y))d\\Omega \\\\\n",
    "  \\vdots  \\\\\n",
    "  \\int_{\\Omega}f \\phi_N(x,y))d\\Omega \n",
    " \\end{pmatrix}\n",
    "\\end{equation}"
   ]
  },
  {
   "cell_type": "markdown",
   "id": "fad7036c-559f-472d-a4b5-1572e6821128",
   "metadata": {},
   "source": [
    "Будем интерполировать неизвестную функцию u(x, y) на элементе линейной функцией, то есть\n",
    "\\begin{equation}\n",
    "u^l(x,y) = \\alpha_1 + \\alpha_2x + \\alpha_3 y\n",
    "\\end{equation}"
   ]
  },
  {
   "cell_type": "markdown",
   "id": "499e5b2f-724f-4c2e-aa9f-763affdb857b",
   "metadata": {},
   "source": [
    "Линейный треугольный элемент:\n",
    "Интерполяция проводится так, чтобы значения точного решения и приближенного совпадали в узлах сетки, то есть\n",
    "\\begin{equation}\n",
    "\\begin{cases}\n",
    "u_i = \\alpha_1 + \\alpha_2x_i + \\alpha_3 y_i \\\\\n",
    "u_j = \\alpha_1 + \\alpha_2x_j + \\alpha_3 y_j \\\\\n",
    "u_k = \\alpha_1 + \\alpha_2x_k + \\alpha_3 y_k\n",
    "\\end{cases}\n",
    "\\end{equation}"
   ]
  },
  {
   "cell_type": "markdown",
   "id": "0973e077-d71a-431d-bb54-3e2607bc3c38",
   "metadata": {},
   "source": [
    "\\begin{equation}\n",
    "u^l = \\frac{1}{2A} (u_i(x_jy_k-x_ky_j+(y_j - y_k)x + (x_k-x_j)y) + u_j(x_ky_i - x_iy_k + (y_k-y_i)x + (x_i - x_k)y) + u_k(x_iy_j- x_jy_i+(y_i-y_j)x + (x_j-x_i)y)\n",
    "\\end{equation}"
   ]
  },
  {
   "cell_type": "markdown",
   "id": "fdbec99a-c62b-47a6-87da-817458a4f2b6",
   "metadata": {},
   "source": [
    "Площадь треугольника:\n",
    "\\begin{equation}\n",
    "A = \n",
    "\\frac{1}{2}\\left|\n",
    "\\begin{matrix}\n",
    "1 & x_i & y_i \\\\\n",
    "1 & x_j & y_j \\\\\n",
    "1 & x_k &  y_k\n",
    "\\end{matrix}\n",
    "\\right|\n",
    "\\end{equation}"
   ]
  },
  {
   "cell_type": "markdown",
   "id": "5242d9e9-03b1-4fdc-b7d2-e3e0ea7d27c4",
   "metadata": {},
   "source": [
    "\\begin{equation}\n",
    "u^l = N_iu_i + N_ju_j + N_ku_k\n",
    "\\end{equation}\n",
    "\\begin{equation}\n",
    "N_e = \\frac{1}{2A} (a_e+b_ex+c_ey)\n",
    "\\end{equation}"
   ]
  },
  {
   "cell_type": "markdown",
   "id": "60dac749-cd44-4cdf-9191-e6db2ec51165",
   "metadata": {},
   "source": [
    "\\begin{equation}\n",
    "\\begin{cases}\n",
    "a_i = x_jy_k - x_ky_j \\\\\n",
    "b_i = y_j - y_k\\\\\n",
    "c_i = x_k - x_j\n",
    "\\end{cases}\n",
    "\\begin{cases}\n",
    "a_j = x_ky_i - y_kx_i \\\\\n",
    "b_j = y_k - y_i\\\\\n",
    "c_j = x_i - x_k\n",
    "\\end{cases}\n",
    "\\begin{cases}\n",
    "a_k = x_iy_j - x_jy_i \\\\\n",
    "b_k = y_i - y_j\\\\\n",
    "c_k = x_j - x_i\n",
    "\\end{cases}\n",
    "\\end{equation}"
   ]
  },
  {
   "cell_type": "markdown",
   "id": "00be3d3f-0fec-4e10-8e98-3f424fd336c4",
   "metadata": {},
   "source": [
    "\\begin{equation}\n",
    "M_{i,j} = \\int_{\\Omega}\\left(  \\left(\\!\\begin{array}{c}  \n",
    "  \\partial_x\\phi_i(x, y)  &  \\partial_y\\phi_i(x, y)\n",
    " \\end{array} \\!\\right) \\left(\\!\\begin{array}{c}  \n",
    " \\partial_x \\phi_j(x, y) \\\\  \\partial_y \\phi_j(x, y)\n",
    " \\end{array} \\!\\right) \\right) d\\Omega\n",
    "\\end{equation}"
   ]
  },
  {
   "cell_type": "markdown",
   "id": "d19a1fbe-1545-430e-9e3d-fc6a5900bfcc",
   "metadata": {},
   "source": [
    "\\begin{equation}\n",
    "N_e = \\frac{1}{2A} (a_e+b_ex+c_ey)\n",
    "M_{i,j} = \\int_{\\Omega}\\left(  \\left(\\!\\begin{array}{c}  \n",
    "  \\partial_x\\phi_i(x, y)  &  \\partial_y\\phi_i(x, y)\n",
    " \\end{array} \\!\\right) \\left(\\!\\begin{array}{c}  \n",
    " \\partial_x \\phi_j(x, y) \\\\  \\partial_y \\phi_j(x, y)\n",
    " \\end{array} \\!\\right) \\right) d\\Omega\n",
    "\\end{equation}"
   ]
  },
  {
   "cell_type": "code",
   "execution_count": 43,
   "id": "e3a29b7b-ccc3-48de-8bcd-648bc2eee62f",
   "metadata": {},
   "outputs": [
    {
     "data": {
      "image/png": "[encoded data removed]",
      "text/plain": [
       "<Figure size 600x300 with 2 Axes>"
      ]
     },
     "metadata": {},
     "output_type": "display_data"
    }
   ],
   "source": [
    "# Определение точек\n",
    "vertices = np.array(((0, 0), (1, 0), (1, 1), (0, 1)))\n",
    "\n",
    "# Создание словаря с данными для триангуляции\n",
    "data = dict(vertices=vertices)\n",
    "\n",
    "# Триангуляция\n",
    "triangulation = tr.triangulate(data, 'qa0.05')\n",
    "\n",
    "# Отображение триангуляции\n",
    "tr.compare(plt, data, triangulation)\n",
    "plt.show()\n"
   ]
  },
  {
   "cell_type": "code",
   "execution_count": 44,
   "id": "ec510366-df47-4f84-8563-9ac2acb4d49c",
   "metadata": {},
   "outputs": [
    {
     "name": "stdout",
     "output_type": "stream",
     "text": [
      "Информация о треугольниках и их соседях:\n",
      "Треугольник 1: вершины (0.6808712121212122, 0.7220643939393939), (1.0, 0.75), (0.75, 1.0)\n",
      "Треугольник 2: вершины (0.0, 0.25), (0.25, 0.5), (0.0, 0.5)\n",
      "Треугольник 3: вершины (0.25, 1.0), (0.0, 1.0), (0.125, 0.75)\n",
      "Треугольник 4: вершины (0.125, 0.75), (0.0, 1.0), (0.0, 0.5)\n",
      "Треугольник 5: вершины (0.5, 0.5), (0.6463632001157016, 0.2294316000578508), (0.75, 0.48106716821735473)\n",
      "Треугольник 6: вершины (0.6463632001157016, 0.2294316000578508), (0.375, 0.25), (0.5, 0.0)\n",
      "Треугольник 7: вершины (0.25, 0.5), (0.0, 0.25), (0.375, 0.25)\n",
      "Треугольник 8: вершины (0.25, 0.5), (0.39583333333333337, 0.75), (0.125, 0.75)\n",
      "Треугольник 9: вершины (0.25, 0.0), (0.0, 0.25), (0.0, 0.0)\n",
      "Треугольник 10: вершины (0.39583333333333337, 0.75), (0.25, 0.5), (0.5, 0.5)\n",
      "Треугольник 11: вершины (0.5, 1.0), (0.39583333333333337, 0.75), (0.6808712121212122, 0.7220643939393939)\n",
      "Треугольник 12: вершины (0.0, 0.5), (0.25, 0.5), (0.125, 0.75)\n",
      "Треугольник 13: вершины (0.5, 0.0), (0.375, 0.25), (0.25, 0.0)\n",
      "Треугольник 14: вершины (0.39583333333333337, 0.75), (0.25, 1.0), (0.125, 0.75)\n",
      "Треугольник 15: вершины (0.5, 0.5), (0.25, 0.5), (0.375, 0.25)\n",
      "Треугольник 16: вершины (1.0, 0.5), (1.0, 0.75), (0.75, 0.48106716821735473)\n",
      "Треугольник 17: вершины (0.0, 0.25), (0.25, 0.0), (0.375, 0.25)\n",
      "Треугольник 18: вершины (0.25, 1.0), (0.39583333333333337, 0.75), (0.5, 1.0)\n",
      "Треугольник 19: вершины (0.75, 0.48106716821735473), (0.6808712121212122, 0.7220643939393939), (0.5, 0.5)\n",
      "Треугольник 20: вершины (0.39583333333333337, 0.75), (0.5, 0.5), (0.6808712121212122, 0.7220643939393939)\n",
      "Треугольник 21: вершины (0.6808712121212122, 0.7220643939393939), (0.75, 1.0), (0.5, 1.0)\n",
      "Треугольник 22: вершины (0.75, 1.0), (1.0, 0.75), (1.0, 1.0)\n",
      "Треугольник 23: вершины (0.5, 0.5), (0.375, 0.25), (0.6463632001157016, 0.2294316000578508)\n",
      "Треугольник 24: вершины (0.75, 0.48106716821735473), (0.6463632001157016, 0.2294316000578508), (1.0, 0.25)\n",
      "Треугольник 25: вершины (1.0, 0.0), (1.0, 0.25), (0.75, 0.0)\n",
      "Треугольник 26: вершины (0.75, 0.48106716821735473), (1.0, 0.25), (1.0, 0.5)\n",
      "Треугольник 27: вершины (0.6463632001157016, 0.2294316000578508), (0.5, 0.0), (0.75, 0.0)\n",
      "Треугольник 28: вершины (0.75, 0.48106716821735473), (1.0, 0.75), (0.6808712121212122, 0.7220643939393939)\n",
      "Треугольник 29: вершины (0.75, 0.0), (1.0, 0.25), (0.6463632001157016, 0.2294316000578508)\n"
     ]
    }
   ],
   "source": [
    "\n",
    "# Извлечение координат вершин\n",
    "tri_vertices = triangulation['vertices']\n",
    "\n",
    "# Извлечение индексов вершин для каждого треугольника\n",
    "tri_triangles = triangulation['triangles']\n",
    "\n",
    "# # Извлечение информации о соседних треугольниках\n",
    "# neighbors = triangulation['neighbors']\n",
    "\n",
    "# Вывод информации о треугольниках и их соседях\n",
    "print(\"Информация о треугольниках и их соседях:\")\n",
    "for i, triangle in enumerate(tri_triangles):\n",
    "    vertices_str = \", \".join([f\"({tri_vertices[vertex][0]}, {tri_vertices[vertex][1]})\" for vertex in triangle])\n",
    "    # neighbor_indices = neighbors[i]\n",
    "    # neighbors_str = \", \".join([str(neighbor) if neighbor != -1 else \"None\" for neighbor in neighbor_indices])\n",
    "    print(f\"Треугольник {i + 1}: вершины {vertices_str}\")"
   ]
  },
  {
   "cell_type": "code",
   "execution_count": 1080,
   "id": "971d052c-7b15-4446-ae61-93958c713e39",
   "metadata": {},
   "outputs": [],
   "source": [
    "def phi(k, l, N):\n",
    "    fild = np.zeros((N,N))\n",
    "    fild[k, l] = 1 \n",
    "    return fild"
   ]
  },
  {
   "cell_type": "code",
   "execution_count": 1081,
   "id": "fa9b36be-5ebd-4c79-99e3-45738dff1cc7",
   "metadata": {},
   "outputs": [
    {
     "data": {
      "text/plain": [
       "array([[0., 0., 0., 0., 0., 0., 0., 0., 0., 0.],\n",
       "       [0., 0., 0., 0., 0., 0., 0., 0., 0., 0.],\n",
       "       [0., 0., 0., 0., 0., 0., 0., 0., 0., 0.],\n",
       "       [0., 0., 0., 0., 0., 0., 0., 0., 0., 0.],\n",
       "       [0., 0., 0., 0., 0., 0., 0., 0., 0., 0.],\n",
       "       [0., 0., 0., 0., 0., 0., 0., 0., 0., 0.],\n",
       "       [0., 0., 0., 0., 0., 0., 0., 0., 0., 0.],\n",
       "       [0., 0., 0., 0., 0., 0., 0., 0., 0., 0.],\n",
       "       [0., 0., 0., 0., 0., 0., 0., 0., 0., 0.],\n",
       "       [0., 0., 0., 0., 0., 0., 0., 0., 0., 1.]])"
      ]
     },
     "execution_count": 1081,
     "metadata": {},
     "output_type": "execute_result"
    }
   ],
   "source": [
    "phi(k, l, N)"
   ]
  },
  {
   "cell_type": "code",
   "execution_count": 1094,
   "id": "08e609f8-c878-4ce7-ba84-dfa02b153c8d",
   "metadata": {},
   "outputs": [],
   "source": [
    "def K(N, h):\n",
    "    K_M = np.zeros((N**2,N**2))\n",
    "    for i in range(0,N**2):\n",
    "        for j in range(0,N**2):\n",
    "            K_M[i,j] = sum(sum(Set_phi[i]*Set_phi[j])*h)*h\n",
    "    return K_M"
   ]
  },
  {
   "cell_type": "code",
   "execution_count": 1095,
   "id": "a74a05cc-17ef-47d4-92cc-2b8068008ec1",
   "metadata": {},
   "outputs": [],
   "source": [
    "def grad_x(f_x_y, h, N):\n",
    "    d_x_f = np.zeros((N,N))\n",
    "    for i in range(0,N):\n",
    "        d_x_f[i, 1:] = np.diff(f_x_y[i,:])/h\n",
    "    return d_x_f"
   ]
  },
  {
   "cell_type": "code",
   "execution_count": 1096,
   "id": "dc7725ee-fd28-4c2a-8282-f4ab8d2ce6b7",
   "metadata": {},
   "outputs": [],
   "source": [
    "def grad_y(f_x_y, h, N):\n",
    "    d_y_f = np.zeros((N,N))\n",
    "    for i in range(0,N):\n",
    "        d_y_f[1:, i] = np.diff(f_x_y[:,i])/h\n",
    "    return d_y_f"
   ]
  },
  {
   "cell_type": "code",
   "execution_count": 1097,
   "id": "5eef5e6b-0d98-4260-be0e-2ca87764b6e1",
   "metadata": {},
   "outputs": [],
   "source": [
    "def M(N, h):\n",
    "    M_M = np.zeros((N**2,N**2))\n",
    "    for i in range(0,N**2):\n",
    "        for j in range(0,N**2):\n",
    "            M_M[i,j] = sum(sum(grad_x(Set_phi[i], h, N)*grad_x(Set_phi[j], h, N)+grad_y(Set_phi[i], h, N)*grad_y(Set_phi[j], h, N)))*h**2\n",
    "    return M_M"
   ]
  },
  {
   "cell_type": "code",
   "execution_count": 1148,
   "id": "293e2c86-77b2-4667-b220-545d36d216e6",
   "metadata": {},
   "outputs": [
    {
     "data": {
      "text/plain": [
       "array([ 1,  3, -5])"
      ]
     },
     "execution_count": 1148,
     "metadata": {},
     "output_type": "execute_result"
    }
   ],
   "source": [
    "a = np.array([2, 3, 6, 1])\n",
    "b = np.array([2, 1, 1, 7])\n",
    "a[1:] - a[:-1]"
   ]
  },
  {
   "cell_type": "code",
   "execution_count": 1099,
   "id": "ce9119c8-d5cf-4ac6-88b9-7a448a97450e",
   "metadata": {},
   "outputs": [],
   "source": [
    "def F(f,N,h):\n",
    "    rp = np.zeros((N**2))\n",
    "    for n in range(0,N**2):\n",
    "        rp[n] = sum(sum(f*Set_phi[n]))*h**2\n",
    "    return rp"
   ]
  },
  {
   "cell_type": "markdown",
   "id": "b7f19131-1f12-42da-ae57-9004835cb1a1",
   "metadata": {},
   "source": [
    "как и с одномерным случаем по времени используем метод Кранка-Николсона:\n",
    "\\begin{equation}\n",
    "(K + \\alpha^2 \\frac{\\Delta t}{2} M) Q^{n+1}  = \\frac{\\Delta t}{2}(F^n + F^{n+1}) + (K-\\alpha^2 \\frac{\\Delta t}{2}M) Q^n\n",
    "\\end{equation}"
   ]
  },
  {
   "cell_type": "code",
   "execution_count": 1113,
   "id": "3ceeec42-ac6b-4ca8-933a-22d0f9427227",
   "metadata": {},
   "outputs": [],
   "source": [
    "alpha = 1000\n",
    "N = 10\n",
    "T = 1000\n",
    "L = 1\n",
    "x = np.linspace(0, L, N)\n",
    "y = x\n",
    "h = x[1]-x[0]\n",
    "dx = x[1]-x[0]\n",
    "dt = (dx**2)*0.01\n",
    "t = np.linspace(0, dt*T, T)\n"
   ]
  },
  {
   "cell_type": "code",
   "execution_count": 1137,
   "id": "50d0b16b-c288-40c6-9f9e-66dd29365fb8",
   "metadata": {},
   "outputs": [],
   "source": [
    "Set_phi = {k + N * l: phi(k, l, N) for k in range(N) for l in range(N)}"
   ]
  },
  {
   "cell_type": "code",
   "execution_count": 1114,
   "id": "2189782d-dc16-4504-85fa-1622e045492d",
   "metadata": {},
   "outputs": [],
   "source": [
    "Set_phi = dict()\n",
    "for k in range(0,N):\n",
    "    for l in range(0,N):\n",
    "        Set_phi[k + N*l] = phi(k, l, N)"
   ]
  },
  {
   "cell_type": "code",
   "execution_count": 1138,
   "id": "1c551b5b-6759-4b16-8ef5-a913edaeacf6",
   "metadata": {},
   "outputs": [],
   "source": [
    "Q = np.zeros((N**2,T))\n",
    "F_mtrx = np.zeros((N**2,T))\n",
    "source = np.zeros((N,N,T))"
   ]
  },
  {
   "cell_type": "code",
   "execution_count": 1139,
   "id": "bb835678-46bf-41b8-a0b5-c469a1e41108",
   "metadata": {},
   "outputs": [],
   "source": [
    "source[0,:,5:] = 10"
   ]
  },
  {
   "cell_type": "code",
   "execution_count": 1140,
   "id": "f1aa5a95-7f01-4e4c-9859-fcb7a0723bd8",
   "metadata": {},
   "outputs": [],
   "source": [
    "for n in range(0,T):\n",
    "    for k in range(0,N):\n",
    "        for l in range(0,N):\n",
    "            F_mtrx[k + N*l,n] = source[k,l,n]"
   ]
  },
  {
   "cell_type": "code",
   "execution_count": 1141,
   "id": "331231ae-38f3-433b-8ad5-1f1880043000",
   "metadata": {},
   "outputs": [],
   "source": [
    "KK = K(N, h)"
   ]
  },
  {
   "cell_type": "code",
   "execution_count": 1142,
   "id": "7f381eed-2855-4577-887d-dc17fdd21909",
   "metadata": {},
   "outputs": [],
   "source": [
    "MM = M(N, h)"
   ]
  },
  {
   "cell_type": "code",
   "execution_count": 972,
   "id": "6742d888-61be-4b71-b48d-0455553c7ac2",
   "metadata": {},
   "outputs": [
    {
     "data": {
      "text/plain": [
       "<matplotlib.image.AxesImage at 0x2248366b490>"
      ]
     },
     "execution_count": 972,
     "metadata": {},
     "output_type": "execute_result"
    },
    {
     "data": {
      "image/png": "[encoded data removed]",
      "text/plain": [
       "<Figure size 640x480 with 1 Axes>"
      ]
     },
     "metadata": {},
     "output_type": "display_data"
    }
   ],
   "source": [
    "plt.imshow(source[:,:,11])"
   ]
  },
  {
   "cell_type": "code",
   "execution_count": 816,
   "id": "cbc92e65-5d3a-4a12-a9ac-a9730941f3ac",
   "metadata": {},
   "outputs": [],
   "source": [
    "Matrix_plus = KK + (alpha**2)*(dt/2)*MM\n",
    "Matrix_minus = KK - (alpha**2)*(dt/2)*MM"
   ]
  },
  {
   "cell_type": "code",
   "execution_count": 925,
   "id": "cda29ab4-930c-4571-9aa9-b3f54b3f97e1",
   "metadata": {},
   "outputs": [],
   "source": [
    "pkt = np.zeros((N,N))\n",
    "for k in range(0,N):\n",
    "    for l in range(0,N):\n",
    "        Q[k + N*l,0] = 122*np.exp((-(x[k]-L/2)**2 - (y[l]-L/2)**2)/0.01)\n",
    "        pkt[k,l] = Q[k + N*l,0]"
   ]
  },
  {
   "cell_type": "code",
   "execution_count": 964,
   "id": "32cbf5e5-4a99-4394-971a-95bf13616aa7",
   "metadata": {},
   "outputs": [
    {
     "data": {
      "text/plain": [
       "<matplotlib.image.AxesImage at 0x22481472f10>"
      ]
     },
     "execution_count": 964,
     "metadata": {},
     "output_type": "execute_result"
    },
    {
     "data": {
      "image/png": "[encoded data removed]",
      "text/plain": [
       "<Figure size 640x480 with 1 Axes>"
      ]
     },
     "metadata": {},
     "output_type": "display_data"
    }
   ],
   "source": [
    "plt.imshow(pkt)"
   ]
  },
  {
   "cell_type": "code",
   "execution_count": 1013,
   "id": "c2d3f0bc-b302-4a96-8a1a-d09300b9464b",
   "metadata": {},
   "outputs": [],
   "source": [
    "for n in range(0, T-1):\n",
    "    rp = (dt/2)*(F_mtrx[:,n]+F_mtrx[:,n+1]) + Matrix_minus.dot(Q[:,n])\n",
    "    Q[:,n+1] = np.linalg.solve(Matrix_plus, rp)"
   ]
  },
  {
   "cell_type": "code",
   "execution_count": 1014,
   "id": "220c183a-91ed-49bc-a815-0c035c4865c6",
   "metadata": {},
   "outputs": [],
   "source": [
    "Term = np.zeros((N,N,T))"
   ]
  },
  {
   "cell_type": "code",
   "execution_count": 1015,
   "id": "f64d1aa7-17e3-439e-a295-7674b9366595",
   "metadata": {},
   "outputs": [],
   "source": [
    "for n in range(0, T):\n",
    "    for k in range(0, N):\n",
    "        for l in range(0, N):\n",
    "            Term[k,l,n] = Q[k + N*l,n]\n"
   ]
  },
  {
   "cell_type": "code",
   "execution_count": 995,
   "id": "282b695f-06b5-4216-b83c-6116e3ba3dfa",
   "metadata": {},
   "outputs": [
    {
     "data": {
      "text/plain": [
       "<matplotlib.image.AxesImage at 0x22480e4b490>"
      ]
     },
     "execution_count": 995,
     "metadata": {},
     "output_type": "execute_result"
    },
    {
     "data": {
      "image/png": "[encoded data removed]",
      "text/plain": [
       "<Figure size 640x480 with 1 Axes>"
      ]
     },
     "metadata": {},
     "output_type": "display_data"
    }
   ],
   "source": [
    "plt.imshow(Term[20:,:,300])"
   ]
  },
  {
   "cell_type": "code",
   "execution_count": 1016,
   "id": "a2268264-69b3-49ee-8076-a3a0ee273daf",
   "metadata": {},
   "outputs": [
    {
     "data": {
      "text/plain": [
       "<matplotlib.colorbar.Colorbar at 0x22487ea11d0>"
      ]
     },
     "execution_count": 1016,
     "metadata": {},
     "output_type": "execute_result"
    },
    {
     "data": {
      "image/png": "[encoded data removed]",
      "text/plain": [
       "<Figure size 1000x300 with 2 Axes>"
      ]
     },
     "metadata": {},
     "output_type": "display_data"
    }
   ],
   "source": [
    "fig, axs = plt.subplots(figsize=(10,3), constrained_layout=True)\n",
    "p1 = axs.imshow(Term[:,:,-1], cmap='plasma', aspect='equal', vmin=np.min(Term), vmax=np.max(Term))\n",
    "fig.colorbar(p1)"
   ]
  },
  {
   "cell_type": "code",
   "execution_count": 930,
   "id": "17a4f6d9-74b4-423a-84d6-d48205ef1e01",
   "metadata": {},
   "outputs": [
    {
     "data": {
      "text/plain": [
       "[<matplotlib.lines.Line2D at 0x22480fddfd0>]"
      ]
     },
     "execution_count": 930,
     "metadata": {},
     "output_type": "execute_result"
    },
    {
     "data": {
      "image/png": "[encoded data removed]",
      "text/plain": [
       "<Figure size 640x480 with 1 Axes>"
      ]
     },
     "metadata": {},
     "output_type": "display_data"
    }
   ],
   "source": [
    "plt.plot(Q[:,-1])"
   ]
  },
  {
   "cell_type": "code",
   "execution_count": 900,
   "id": "c358523d-aee4-4942-8bc5-229915bb6381",
   "metadata": {},
   "outputs": [],
   "source": [
    "u = np.zeros((N, N, T))\n",
    "for n in range(0, T):\n",
    "    for i in range(0, N):\n",
    "        for j in range(0, N):\n",
    "            u[:,:,n] = u[:,:,n] + Q[i+N*j,n] * Set_phi[i+N*j]"
   ]
  },
  {
   "cell_type": "code",
   "execution_count": 901,
   "id": "4e836cdc-74f1-4d60-8f6b-b2d496a8948c",
   "metadata": {},
   "outputs": [
    {
     "data": {
      "text/plain": [
       "<matplotlib.image.AxesImage at 0x22487a9d050>"
      ]
     },
     "execution_count": 901,
     "metadata": {},
     "output_type": "execute_result"
    },
    {
     "data": {
      "image/png": "[encoded data removed]",
      "text/plain": [
       "<Figure size 640x480 with 1 Axes>"
      ]
     },
     "metadata": {},
     "output_type": "display_data"
    }
   ],
   "source": [
    "plt.imshow(u[:,:,-1])"
   ]
  },
  {
   "cell_type": "code",
   "execution_count": null,
   "id": "3ca0d3e3-22e9-46bb-8240-58feb44d4852",
   "metadata": {},
   "outputs": [],
   "source": []
  }
 ],
 "metadata": {
  "kernelspec": {
   "display_name": "Python 3 (ipykernel)",
   "language": "python",
   "name": "python3"
  },
  "language_info": {
   "codemirror_mode": {
    "name": "ipython",
    "version": 3
   },
   "file_extension": ".py",
   "mimetype": "text/x-python",
   "name": "python",
   "nbconvert_exporter": "python",
   "pygments_lexer": "ipython3",
   "version": "3.11.7"
  }
 },
 "nbformat": 4,
 "nbformat_minor": 5
}
