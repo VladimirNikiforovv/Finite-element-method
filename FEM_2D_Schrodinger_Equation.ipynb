{
 "cells": [
  {
   "cell_type": "markdown",
   "id": "29fb5e3a-aba6-46c7-9a64-00830f4c47a0",
   "metadata": {},
   "source": [
    "## Решение уравнения Шрёдингера методом конечных элементов\n",
    "\\begin{equation}\n",
    "i\\hbar\\frac{\\partial}{\\partial t}\\psi(\\vec{r},t) = -\\frac{\\hbar^2}{2m} \\Delta \\psi(\\vec{r},t) +V(\\vec{r},t)\\psi(\\vec{r},t)\n",
    "\\end{equation}"
   ]
  },
  {
   "cell_type": "markdown",
   "id": "453dfc84-5cf5-45b5-ae66-5426be7a2568",
   "metadata": {},
   "source": [
    "В естественной системе единиц:\n",
    "\\begin{equation}\n",
    "m = c = \\hbar = 1\n",
    "\\end{equation}\n",
    "\\begin{equation}\n",
    " i\\frac{\\partial}{\\partial t}\\psi(\\vec{r},t)=   - \\frac{1}{2} \\Delta \\psi(\\vec{r},t) + V(\\vec{r},t)\\psi(\\vec{r},t)\n",
    "\\end{equation}"
   ]
  },
  {
   "cell_type": "markdown",
   "id": "d0191fad-ec62-4dc0-ad04-81fe708d402e",
   "metadata": {},
   "source": [
    "В вариационном виде:\n",
    "\\begin{equation}\n",
    "\\int_\\Omega \\left(i\\partial_tu + \\frac{1}{2} \\Delta u - Vu \\right)vd\\Omega\n",
    "\\end{equation}"
   ]
  },
  {
   "cell_type": "markdown",
   "id": "d792a3d4-dd95-46fd-a8be-3bb24472ce2d",
   "metadata": {},
   "source": [
    "\\begin{equation}\n",
    "\\frac{1}{2}\\int_\\Omega \\left( v \\Delta u  \\right)d\\Omega\n",
    "\\end{equation}"
   ]
  },
  {
   "cell_type": "markdown",
   "id": "c9dc0455-dc18-40f5-97b3-610a8de1c910",
   "metadata": {},
   "source": [
    "$$\\nabla \\cdot ( v\\nabla  u) = v \\Delta u + \\nabla  v \\nabla u$$\n",
    "$$\\int_{\\Omega}\\nabla \\cdot ( v\\nabla  u) d\\Omega = \\int_{\\Omega}  v \\Delta u d\\Omega + \\int_{\\Omega}\\nabla  v \\nabla u d\\Omega$$"
   ]
  },
  {
   "cell_type": "markdown",
   "id": "fa23cae2-a15d-44f4-988f-2754728d62c6",
   "metadata": {},
   "source": [
    "\n",
    "Теорема Остроградского – Гаусса:\n",
    "$$\\int_{\\Omega}\\nabla \\cdot ( v\\nabla  u) d\\Omega = \\int_{\\partial \\Omega}  v\\nabla (u\\cdot \\mathbf{n}) d(\\partial \\Omega)$$\n",
    "$$ \\int_{\\Omega}  v \\Delta u d\\Omega + \\int_{\\Omega}\\nabla  v \\nabla u d\\Omega= \\int_{\\partial \\Omega}   v\\nabla (u\\cdot \\mathbf{n}) d(\\partial \\Omega)$$\n",
    "$$ \\int_{\\Omega} \\alpha(x,y)^2 v \\Delta u d\\Omega + \\int_{\\Omega}\\nabla  v \\nabla u d\\Omega= \\int_{\\partial \\Omega}   v\\frac{\\partial u}{\\partial \\mathbf{n}} d(\\partial \\Omega)$$\n",
    "$$ \\int_{\\Omega}  v \\Delta u d\\Omega = - \\int_{\\Omega}\\nabla  v \\nabla u d\\Omega + \\int_{\\partial \\Omega}   v\\frac{\\partial u}{\\partial \\mathbf{n}} d(\\partial \\Omega)$$"
   ]
  },
  {
   "cell_type": "markdown",
   "id": "3da08f67-f1b1-4cc8-99be-29fbf1bfeecf",
   "metadata": {},
   "source": [
    "$$ \\frac{1}{2}\\int_{\\Omega}  v \\Delta u d\\Omega = - \\frac{1}{2}\\int_{\\Omega}\\nabla  v \\nabla u d\\Omega + \\frac{1}{2}\\int_{\\partial \\Omega}   v\\frac{\\partial u}{\\partial \\mathbf{n}} d(\\partial \\Omega)$$"
   ]
  },
  {
   "cell_type": "markdown",
   "id": "37434edf-8797-4648-b772-48b6033ae83b",
   "metadata": {},
   "source": [
    "Ток вероятности через границы области обозначим нулю, предполагая изолированность области.\n",
    "$$\\frac{1}{2}\\int_{\\partial \\Omega}   v\\frac{\\partial u}{\\partial \\mathbf{n}} d(\\partial \\Omega) = 0$$"
   ]
  },
  {
   "cell_type": "markdown",
   "id": "b80c407b-85df-4eab-ada2-ca5ed382bf17",
   "metadata": {},
   "source": [
    "В вариационном виде:\n",
    "\\begin{equation}\n",
    "\\int_\\Omega i\\partial_tuvd\\Omega + \\frac{1}{2} \\int_\\Omega\\Delta uvd\\Omega - \\int_\\Omega Vu vd\\Omega = 0\n",
    "\\end{equation}"
   ]
  },
  {
   "cell_type": "markdown",
   "id": "d12e44a3-d14d-4238-ac12-05ae2ae9d13b",
   "metadata": {},
   "source": [
    "\\begin{equation}\n",
    "\\int_\\Omega i\\partial_tuvd\\Omega - \\frac{1}{2}\\int_{\\Omega}\\nabla  v \\nabla u d\\Omega - \\int_\\Omega Vu vd\\Omega = 0\n",
    "\\end{equation}"
   ]
  },
  {
   "cell_type": "markdown",
   "id": "34ac94ab-3a34-4cca-b9e0-ee9641e9307a",
   "metadata": {},
   "source": [
    "\\begin{equation}\n",
    "\\int_{\\Omega} \\left(i\\frac{\\partial u}{\\partial t} v - \\frac{1}{2}  \\left(\\!\\begin{array}{c}  \n",
    " \\partial_x u  & \\partial_y u\n",
    " \\end{array} \\!\\right) \\left(\\!\\begin{array}{c}  \n",
    " \\partial_x v \\\\  \\partial_y v\n",
    " \\end{array} \\!\\right)  - Vuv\\right)d\\Omega  = 0\n",
    "\\end{equation}"
   ]
  },
  {
   "cell_type": "markdown",
   "id": "6b90d70e-56d9-496c-9b99-4c40ac2ef9b1",
   "metadata": {},
   "source": [
    "Рассмотрим задачу в двух измерениях.\n",
    "Пробные функции разобьем по узлам во времени.\n",
    "$$V = V(x,y,t)$$\n",
    "\\begin{equation}\n",
    "u^h = \\sum_{i}^N Q_i(t)\\phi_i(x, y)\n",
    "\\end{equation}\n",
    "Q - соответствует значению в i-том узле во время t\n",
    "\\begin{equation}\n",
    "Q_i(t) = Q(x_i,y_i, t)\n",
    "\\end{equation}"
   ]
  },
  {
   "cell_type": "markdown",
   "id": "4b0a2de4-6e30-4e8a-91ec-91da5b54c5a7",
   "metadata": {},
   "source": [
    "$$Au=f$$\n",
    "\n",
    "$$(Au_n, v_n)=(f,v_n)$$"
   ]
  },
  {
   "cell_type": "markdown",
   "id": "e88509f1-036a-4686-88bc-82efdf9f912b",
   "metadata": {},
   "source": [
    "в нашем случае $f = 0$"
   ]
  },
  {
   "cell_type": "markdown",
   "id": "bad590f8-0c38-4f41-83fd-42057b0778b9",
   "metadata": {},
   "source": [
    "$$Au=0$$\n",
    "\n",
    "$$(Au_n, v_n)=0$$"
   ]
  },
  {
   "cell_type": "markdown",
   "id": "d4e2fab0-fae4-4f76-b9bf-1ebb0bf5f8f0",
   "metadata": {},
   "source": [
    "$$(Au_n, \\sum_{j}^N Q_j(t)\\phi_j(x, y))=0$$"
   ]
  },
  {
   "cell_type": "markdown",
   "id": "072b28ed-521c-48a6-8360-a12101c4084b",
   "metadata": {},
   "source": [
    "$$\\sum_{j}^N(Au_n,  Q_j(t)\\phi_j(x, y))=0$$\n",
    "\n",
    "$$\\sum_{j}^NQ_j(t)(Au_n,  \\phi_j(x, y))=0$$\n",
    "\n",
    "$$\\sum_{j}^NQ_j(t)(Au_n,  \\phi_j(x, y))=0$$\n",
    "\n",
    "$$(Au_n, \\phi_j(x, y))=0$$\n",
    "$$j=0,1,..,N$$\n",
    "\n"
   ]
  },
  {
   "cell_type": "markdown",
   "id": "e50b5d39-c9bc-4e69-a301-fe8a6d273f47",
   "metadata": {},
   "source": [
    "\\begin{equation}\n",
    "\\int_{\\Omega} \\left(i\\left(\\sum_{i}^N \\frac{\\partial }{\\partial t}Q_i(t)\\phi_i(x, y)\\right) \\phi_j(x, y) + \\frac{1}{2}\\left(\\!\\begin{array}{c}  \n",
    "  \\sum_{i}^N Q_i(t)\\partial_x\\phi_i(x, y)  &  \\sum_{i}^N Q_i(t)\\partial_y\\phi_i(x, y)\n",
    " \\end{array} \\!\\right) \\left(\\!\\begin{array}{c}  \n",
    " \\partial_x \\phi_j(x, y) \\\\  \\partial_y \\phi_j(x, y)\n",
    " \\end{array} \\!\\right) - V(x,y,t) \\sum_{i}^N Q_i(t)\\phi_i(x, y)\\phi_j(x, y) \\right) d\\Omega   = 0 \n",
    "\\end{equation}"
   ]
  },
  {
   "cell_type": "markdown",
   "id": "faeb8e8d-74b0-43a0-b79b-6ae5d9b13f96",
   "metadata": {},
   "source": [
    "\\begin{equation}\n",
    "i\\sum_{i}^N\\frac{\\partial }{\\partial t}Q_i(t) \\int_{\\Omega} \\phi_i(x, y) \\phi_j(x, y)d\\Omega + \\frac{1}{2}  \\sum_{i}^NQ_i(t)\\int_{\\Omega}\\left(  \\left(\\!\\begin{array}{c}  \n",
    "  \\partial_x\\phi_i(x, y)  &  \\partial_y\\phi_i(x, y)\n",
    " \\end{array} \\!\\right) \\left(\\!\\begin{array}{c}  \n",
    " \\partial_x \\phi_j(x, y) \\\\  \\partial_y \\phi_j(x, y)\n",
    " \\end{array} \\!\\right) \\right) d\\Omega  -\\sum_{i}^N Q_i(t)\\int_{\\Omega} V(x,y,t) \\phi_i(x, y)\\phi_j(x, y) d\\Omega= 0  \n",
    "\\end{equation}"
   ]
  },
  {
   "cell_type": "markdown",
   "id": "395c9d62-70d2-4b3b-84e0-61c9709f3eac",
   "metadata": {},
   "source": [
    "$$\\sum_{i}^N Q_i(t)\\int_{\\Omega} V(x,y,t) \\phi_i(x, y)\\phi_j(x, y) d\\Omega$$\n",
    "\\begin{equation}\n",
    "V = \n",
    "  \\begin{pmatrix}\n",
    "   \\int_\\Omega V(x,y,t)\\phi_0(x, y)\\phi_0(x, y)d\\Omega & \\int_\\Omega V(x,y,t)\\phi_1(x, y)\\phi_0(x, y)d\\Omega & \\cdots & \\int_\\Omega V(x,y,t)\\phi_0(x, y)\\phi_N(x, y)d\\Omega \\\\\n",
    "    \\int_\\Omega V(x,y,t)\\phi_1(x, y)\\phi_0(x, y)d\\Omega & \\int_\\Omega V(x,y,t)\\phi_1(x, y)\\phi_1(x, y)d\\Omega & \\cdots & \\int_\\Omega V(x,y,t)\\phi_1(x, y)\\phi_N(x, y)d\\Omega \\\\\n",
    "  \\vdots & \\vdots  & \\ddots & \\vdots  \\\\ \\\\\n",
    "    \\int_\\Omega V(x,y,t)\\phi_N(x, y)\\phi_0(x, y)d\\Omega & \\int_\\Omega V(x,y,t)\\phi_N(x, y)\\phi_1(x, y)d\\Omega & \\cdots & \\int_\\Omega V(x,y,t)\\phi_N(x, y)\\phi_N(x, y)d\\Omega\n",
    " \\end{pmatrix}\n",
    "\\end{equation}$$$$"
   ]
  },
  {
   "cell_type": "markdown",
   "id": "5f21887e-0cb7-406a-8551-7c8fa5339a09",
   "metadata": {},
   "source": [
    "Где:\n",
    "\\begin{equation}\n",
    "K_{i,j} = \\int_{\\Omega} \\phi_i(x,y) \\phi_j(x,y)d\\Omega\n",
    "\\end{equation}\n",
    "\\begin{equation}\n",
    "M_{i,j} = \\int_{\\Omega}\\left(  \\left(\\!\\begin{array}{c}  \n",
    "  \\partial_x\\phi_i(x, y)  &  \\partial_y\\phi_i(x, y)\n",
    " \\end{array} \\!\\right) \\left(\\!\\begin{array}{c}  \n",
    " \\partial_x \\phi_j(x, y) \\\\  \\partial_y \\phi_j(x, y)\n",
    " \\end{array} \\!\\right) \\right) d\\Omega\n",
    "\\end{equation}\n",
    "\\begin{equation}\n",
    "\\end{equation}"
   ]
  },
  {
   "cell_type": "markdown",
   "id": "2d3d3f3b-7905-47f6-a68c-db2e3a6df12d",
   "metadata": {},
   "source": [
    "Рассмотреть необходимо два случая, стационарный - $V = V(x,y)$ и нестационарный - $V = V(x,y, t)$"
   ]
  },
  {
   "cell_type": "markdown",
   "id": "4bd6f06c-8fa4-42f9-94c0-857b8d1ea51b",
   "metadata": {},
   "source": [
    "Переходя к векторной записи аналогичной выводу для уравнения теплопроводности, имеем в стационарном случае: \n",
    "\\begin{equation}\n",
    "Ki\\partial_t Q - \\frac{1}{2} M Q - VQ= 0\n",
    "\\end{equation}\n",
    "и в нестационарном:\n",
    "\\begin{equation}\n",
    "Ki\\partial_t Q - \\frac{1}{2} M Q - V(t)Q= 0\n",
    "\\end{equation}"
   ]
  },
  {
   "cell_type": "markdown",
   "id": "6c02caff-68f3-48e4-bb37-599fc4d972cf",
   "metadata": {},
   "source": [
    "Используем метод Кранка-Николсона, получим схему для нестационарного случая, из которого так же следует следует стационарный:      "
   ]
  },
  {
   "cell_type": "markdown",
   "id": "8355c811-0b40-410b-b6e7-634fd7569c81",
   "metadata": {},
   "source": [
    "\\begin{equation}\n",
    "K\\partial_t Q + i\\frac{1}{2} M Q + i V(t)Q= 0\n",
    "\\end{equation}"
   ]
  },
  {
   "cell_type": "markdown",
   "id": "0784e4fc-be3e-494b-9bcc-b0a9a7d55333",
   "metadata": {},
   "source": [
    "forward Euler\n",
    "\\begin{equation}\n",
    "K\\frac{Q^{n+1}-Q^n}{\\Delta t} + \\frac{i}{2} M Q^n + i V^n Q^n = 0\n",
    "\\end{equation}\n",
    "backward Euler\n",
    "\\begin{equation}\n",
    "K\\frac{Q^{n+1}-Q^n}{\\Delta t} + \\frac{i}{2} M Q^{n+1} + i V^{n+1} Q^{n+1} = 0 \n",
    "\\end{equation}"
   ]
  },
  {
   "cell_type": "markdown",
   "id": "f925b002-890d-49ce-9e82-1afc5ccb3f4e",
   "metadata": {},
   "source": [
    "\\begin{equation}\n",
    "K\\frac{Q^{n+1}-Q^n}{\\Delta t} = -\\frac{i}{2} M Q^n - i V^n Q^n \n",
    "\\end{equation}\n",
    "\\begin{equation}\n",
    "K\\frac{Q^{n+1}-Q^n}{\\Delta t} = - \\frac{i}{2} M Q^{n+1} - i V^{n+1} Q^{n+1}  \n",
    "\\end{equation}"
   ]
  },
  {
   "cell_type": "markdown",
   "id": "2bfbd304-c3d7-45ef-b7e6-39d32ca7f5ae",
   "metadata": {},
   "source": [
    "\\begin{equation}\n",
    "K\\frac{Q^{n+1}-Q^n}{\\Delta t} = -\\frac{i}{4} M Q^n - i \\frac{1}{2}V^n Q^n - \\frac{i}{4} M Q^{n+1} - i \\frac{1}{2} V^{n+1} Q^{n+1}\n",
    "\\end{equation}"
   ]
  },
  {
   "cell_type": "markdown",
   "id": "31022b53-bc1f-4e45-9ead-86993f3f05a6",
   "metadata": {},
   "source": [
    "\\begin{equation}\n",
    "KQ^{n+1}-KQ^n = -\\frac{i\\Delta t}{4} M Q^n - i \\frac{\\Delta t}{2}V^n Q^n - \\frac{i\\Delta t}{4} M Q^{n+1} - i \\frac{\\Delta t}{2} V^{n+1} Q^{n+1}\n",
    "\\end{equation}"
   ]
  },
  {
   "cell_type": "markdown",
   "id": "930cb5eb-fce5-4932-918d-28e4dd59e9a3",
   "metadata": {},
   "source": [
    "\\begin{equation}\n",
    "KQ^{n+1} + \\frac{i\\Delta t}{4} M Q^{n+1} + i \\frac{\\Delta t}{2} V^{n+1} Q^{n+1} =  KQ^n -\\frac{i\\Delta t}{4} M Q^n - i \\frac{\\Delta t}{2}V^n Q^n  \n",
    "\\end{equation}"
   ]
  },
  {
   "cell_type": "markdown",
   "id": "f9e1ddc8-c46b-43fb-82c1-aa5125226190",
   "metadata": {},
   "source": [
    "Для случая нестационарного потенциала: \n",
    "\\begin{equation}\n",
    "\\left(K + \\frac{i\\Delta t}{4} M + i \\frac{\\Delta t}{2} V^{n+1} \\right) Q^{n+1} =  \\left(K -\\frac{i\\Delta t}{4} M - i \\frac{\\Delta t}{2}V^n \\right)Q^n\n",
    "\\end{equation}"
   ]
  },
  {
   "cell_type": "markdown",
   "id": "d9dde662-9bf2-4da6-aa78-954a43238288",
   "metadata": {},
   "source": [
    "Для случая стационарного потенциала:  \n",
    "\\begin{equation}\n",
    "\\left(K + \\frac{i\\Delta t}{4} M + i \\frac{\\Delta t}{2} V \\right) Q^{n+1} =  \\left(K -\\frac{i\\Delta t}{4} M - i \\frac{\\Delta t}{2}V \\right)Q^n\n",
    "\\end{equation}"
   ]
  },
  {
   "cell_type": "markdown",
   "id": "7a2ef73c-b1d5-4af8-9857-c6615b40879a",
   "metadata": {},
   "source": [
    "## Демонстрация решения"
   ]
  },
  {
   "cell_type": "code",
   "execution_count": 1,
   "id": "42b6140b-9703-4a88-a098-1198c4a62557",
   "metadata": {},
   "outputs": [],
   "source": [
    "from FEM_2D_Schrodinger_Equation import *"
   ]
  },
  {
   "cell_type": "markdown",
   "id": "49924da1-dc55-4739-ae55-29a62d055e7e",
   "metadata": {},
   "source": [
    "Создаем класс и задаем соответствующие значения, необходимые библиотеки импортированы в классе   "
   ]
  },
  {
   "cell_type": "code",
   "execution_count": 2,
   "id": "9ee0d387-f4cc-4622-b105-3eab1efa2fed",
   "metadata": {},
   "outputs": [],
   "source": [
    "test = Schrodinger_Equation(N = 50, T = 500, L = 0.1, C = 0.1)"
   ]
  },
  {
   "cell_type": "markdown",
   "id": "99a92d15-3a42-4f6c-a97b-675f4dc27a53",
   "metadata": {},
   "source": [
    "Обозначаем начальные условия в виде бегущего волнового пакета    \n",
    "$$\\psi_{int}(x,y) = e^{-((x-x_0)^2) + (y-y_0)^2)}e^{-ik(x-x_0)}$$"
   ]
  },
  {
   "cell_type": "code",
   "execution_count": 3,
   "id": "6cddb263-6c79-4ea1-b3a6-30b02a834d06",
   "metadata": {},
   "outputs": [],
   "source": [
    "N = 50\n",
    "T = 500\n",
    "L = 0.1\n",
    "C = 0.1\n",
    "x = np.linspace(0, L, N)\n",
    "y = x\n",
    "h = x[1]-x[0]\n",
    "dt = (h**2)*C"
   ]
  },
  {
   "cell_type": "code",
   "execution_count": 4,
   "id": "01bcf1a2-efb1-45dc-8c86-75c1d4ae68c7",
   "metadata": {},
   "outputs": [],
   "source": [
    "initial_condition = np.zeros((N,N), dtype=np.complex128)\n",
    "\n",
    "for k in range(0,N):\n",
    "    for l in range(0,N):\n",
    "        initial_condition[k,l] = (np.exp(-((x[k] - L*(3/4+0.06))**2 +(y[l] - L/2)**2)/0.0003)*np.exp(-1j*(x[k]-L*(3/4+0.06))*500))"
   ]
  },
  {
   "cell_type": "markdown",
   "id": "4190d64e-7e5f-4e93-9fc7-57a349a70dd8",
   "metadata": {},
   "source": [
    "Потенциал для примера возьмем кусочно-заданный и создадим дух щелевую область, что бы повторить знаменитый опыт "
   ]
  },
  {
   "cell_type": "code",
   "execution_count": 5,
   "id": "2d734a0c-8522-4fdb-9afe-905d0af521e8",
   "metadata": {},
   "outputs": [
    {
     "data": {
      "image/png": "[encoded data removed]",
      "text/plain": [
       "<Figure size 500x500 with 1 Axes>"
      ]
     },
     "metadata": {},
     "output_type": "display_data"
    }
   ],
   "source": [
    "potential = np.zeros((N,N), dtype=np.complex128)                                            \n",
    "for i in range (18, 23):\n",
    "    for j in range(0, 20):\n",
    "        potential[i,j] = 500000    \n",
    "    for j in range(24, 26):\n",
    "        potential[i,j] = 500000 \n",
    "    for j in range(30, 50):\n",
    "        potential[i,j] = 500000     \n",
    "fig, axs = plt.subplots(figsize=(5,5), constrained_layout=True)\n",
    "p1 = axs.imshow(np.abs(potential), cmap='gray', aspect='equal')\n",
    "plt.show()"
   ]
  },
  {
   "cell_type": "markdown",
   "id": "2d0d4539-9d32-45e2-8e74-a5686bd12187",
   "metadata": {},
   "source": [
    "Вычисляем соответствующие базисные функции и передаем потенциал и начальные условия"
   ]
  },
  {
   "cell_type": "code",
   "execution_count": 6,
   "id": "8ce53cc9-8675-45cf-a940-b8e53ebe4f5c",
   "metadata": {},
   "outputs": [],
   "source": [
    "test.matrix_metod.calc_set_phi()\n",
    "test.matrix_metod.set_potential_stat(potential)\n",
    "test.matrix_metod.set_init(initial_condition)"
   ]
  },
  {
   "cell_type": "markdown",
   "id": "f6b47c22-abe0-4936-b592-78c3e55bac6f",
   "metadata": {},
   "source": [
    "Вычислим решение, а также замерим время выполнения программы"
   ]
  },
  {
   "cell_type": "code",
   "execution_count": null,
   "id": "1295798e-8670-44b9-8258-fc6ba4bf6d2c",
   "metadata": {},
   "outputs": [],
   "source": [
    "start = datetime.datetime.now()\n",
    "print('Время старта: ' + str(start))\n",
    "\n",
    "test.matrix_metod.calc_matrix()\n",
    "test.matrix_metod.calc_time_dependent_v_stat()\n",
    "\n",
    "finish = datetime.datetime.now()\n",
    "print('Время окончания: ' + str(finish))\n",
    "print('Время работы: ' + str(finish - start)) "
   ]
  },
  {
   "cell_type": "markdown",
   "id": "cb6f3d00-1f29-43ba-8aec-b720fe49c9d2",
   "metadata": {},
   "source": [
    "в зависимости от количества узлов вычисления занимают много времени не сматря на ускорение с помощью nemba"
   ]
  },
  {
   "cell_type": "markdown",
   "id": "ba64e3f6-1754-4427-9e49-197a379d29ba",
   "metadata": {},
   "source": [
    "Для значений N = 50, моя машина считала давольно долго\n",
    "\n",
    "Время старта: 2024-04-25 18:00:41.883989\n",
    "\n",
    "Время окончания: 2024-04-25 18:20:35.910019\n",
    "\n",
    "Время работы: 0:19:54.026030"
   ]
  },
  {
   "cell_type": "markdown",
   "id": "007bef45-ff92-4c05-bd20-9d9c857b0bb3",
   "metadata": {},
   "source": [
    "Вывод анимации и ее сохранение"
   ]
  },
  {
   "cell_type": "code",
   "execution_count": null,
   "id": "60bf11e7-8b35-49a4-bc9b-2406f36503cb",
   "metadata": {},
   "outputs": [],
   "source": [
    "test.animation(min_scale = 0, max_scale = 1)"
   ]
  },
  {
   "cell_type": "markdown",
   "id": "42460242-992c-4cec-a79b-cc7409d92d52",
   "metadata": {},
   "source": [
    "Результат вычислений с изображенным барьером и квадратом модуля пси функции "
   ]
  },
  {
   "cell_type": "markdown",
   "id": "d66db881-1df2-420e-8cb1-1141601cf3eb",
   "metadata": {},
   "source": [
    "<img src='psi_wave_packet_double-slit_experiment_cb.gif' width=1000, heigth=1000>"
   ]
  },
  {
   "cell_type": "markdown",
   "id": "d7f9ba05-16a4-4d4e-8c4e-70d622c43b89",
   "metadata": {},
   "source": [
    "Вполне повторяет картину из википедии\n",
    "https://ru.wikipedia.org/wiki/%D0%A4%D0%B0%D0%B9%D0%BB:Double_slit_experiment.webm"
   ]
  },
  {
   "cell_type": "markdown",
   "id": "87caf58a-08fa-47c8-847a-f7fafdfa0e2b",
   "metadata": {},
   "source": [
    "Ну и просто движение без барьеров "
   ]
  },
  {
   "cell_type": "markdown",
   "id": "a7f02f93-fd6e-47b1-9ddd-853de49d10ab",
   "metadata": {},
   "source": [
    "<img src='psi_wave_packet.gif' width=1000, heigth=1000>"
   ]
  }
 ],
 "metadata": {
  "kernelspec": {
   "display_name": "Python 3 (ipykernel)",
   "language": "python",
   "name": "python3"
  },
  "language_info": {
   "codemirror_mode": {
    "name": "ipython",
    "version": 3
   },
   "file_extension": ".py",
   "mimetype": "text/x-python",
   "name": "python",
   "nbconvert_exporter": "python",
   "pygments_lexer": "ipython3",
   "version": "3.11.7"
  }
 },
 "nbformat": 4,
 "nbformat_minor": 5
}
