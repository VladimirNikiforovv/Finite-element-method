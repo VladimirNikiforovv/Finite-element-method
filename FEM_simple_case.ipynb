{
 "cells": [
  {
   "cell_type": "code",
   "execution_count": 276,
   "id": "7d5f951d-1749-4147-b43e-705de4b73f06",
   "metadata": {},
   "outputs": [],
   "source": [
    "import numpy as np\n",
    "import matplotlib.pyplot as plt\n",
    "import random as rn\n",
    "%matplotlib inline"
   ]
  },
  {
   "cell_type": "markdown",
   "id": "0d21f071-588d-4cb4-bea8-cce302ff9041",
   "metadata": {},
   "source": [
    "Пример уравнения и его аналитическое решение   "
   ]
  },
  {
   "cell_type": "markdown",
   "id": "334316ea-a2bf-4955-bbf9-ccc3d4f7aa5b",
   "metadata": {},
   "source": [
    "\\begin{equation}\n",
    "    y''+y = 1,    y(0) = 0,    y(\\frac{\\pi}{2}) = 0\n",
    "\\end{equation}"
   ]
  },
  {
   "cell_type": "markdown",
   "id": "14755901-d54b-42b9-b4e4-1067aec1ccb0",
   "metadata": {},
   "source": [
    "\\begin{equation}\n",
    "y=C_{1}\\,\\sin\\left(x\\right)+C_{2}\\,\\cos\\left(x\\right)+1\n",
    "\\end{equation}"
   ]
  },
  {
   "cell_type": "markdown",
   "id": "feb8b136-cefc-4b7f-96c7-3ed0419ba66a",
   "metadata": {},
   "source": [
    "\\begin{equation}\n",
    "C_{1} = - 1\n",
    "\\end{equation}\n",
    "\\begin{equation}\n",
    "C_{2} = - 1\n",
    "\\end{equation}"
   ]
  },
  {
   "cell_type": "markdown",
   "id": "a0d62670-65d3-477a-99ad-b636e4f67492",
   "metadata": {},
   "source": [
    "\\begin{equation}\n",
    "y= -\\sin\\left(x\\right) - \\cos\\left(x\\right)+1\n",
    "\\end{equation}"
   ]
  },
  {
   "cell_type": "markdown",
   "id": "3ba9245d-434a-4c1a-958d-c4424462fadf",
   "metadata": {},
   "source": [
    "\\begin{equation}\n",
    "y' = -\\cos\\left(x\\right) + \\sin\\left(x\\right)\n",
    "\\end{equation}"
   ]
  },
  {
   "cell_type": "markdown",
   "id": "c7109766-ed88-470b-ae15-31b73048f694",
   "metadata": {},
   "source": [
    "\\begin{equation}\n",
    "   \\left(\\frac{d^2}{dx^2}+1\\right)y = 1\n",
    "\\end{equation}\n",
    "\\begin{equation}\n",
    "   L = \\frac{d^2}{dx^2}+1, f =1\n",
    "\\end{equation}"
   ]
  },
  {
   "cell_type": "markdown",
   "id": "a7104fe4-8ebf-4d66-bf23-7d0d62111a16",
   "metadata": {},
   "source": [
    "Слабая постановка задачи:"
   ]
  },
  {
   "cell_type": "markdown",
   "id": "bb9f6873-08ac-4839-878f-eab207734365",
   "metadata": {},
   "source": [
    "\\begin{equation}\n",
    "   \\left(\\int_0^{\\pi/2}\\left(\\frac{d^2}{dx^2}+1\\right)y - 1\\right)vdx = 0\n",
    "\\end{equation}"
   ]
  },
  {
   "cell_type": "markdown",
   "id": "b1bf567f-8441-47fc-a816-e8a9578ec7f1",
   "metadata": {},
   "source": [
    "\\begin{equation}\n",
    "   \\left(\\int_0^{\\pi/2}\\left(\\frac{d^2}{dx^2}+1\\right)y \\right)vdx = \\int_0^{\\pi/2}vdx\n",
    "\\end{equation}"
   ]
  },
  {
   "cell_type": "markdown",
   "id": "2f84ac17-c462-4e6c-a231-8c31706a7e66",
   "metadata": {},
   "source": [
    "\\begin{equation}\n",
    "   \\int_0^{\\pi/2}\\left(\\frac{d^2y}{dx^2}+y\\right) vdx = \\int_0^{\\pi/2}vdx\n",
    "\\end{equation}"
   ]
  },
  {
   "cell_type": "markdown",
   "id": "48baf86b-3b6b-44cf-8c3b-0b98dd8b239b",
   "metadata": {},
   "source": [
    "\\begin{equation}\n",
    "   \\int_0^{\\pi/2}\\left(\\frac{d^2y}{dx^2}v+yv\\right) dx = \\int_0^{\\pi/2}vdx\n",
    "\\end{equation}"
   ]
  },
  {
   "cell_type": "markdown",
   "id": "ee4d5fba-a0c2-4373-ad4d-6e8e8cf8aae6",
   "metadata": {},
   "source": [
    "\\begin{equation}\n",
    "   \\int_0^{\\pi/2}\\left(y''v\\right)dx +\\int_0^{\\pi/2}\\left(yv\\right) dx = \\int_0^{\\pi/2}vdx\n",
    "\\end{equation}"
   ]
  },
  {
   "cell_type": "markdown",
   "id": "23abeea8-37d2-4312-91b4-0c0bd561c5fb",
   "metadata": {},
   "source": [
    "Первый терм распишем по частям"
   ]
  },
  {
   "cell_type": "markdown",
   "id": "a36f44ca-51d5-403c-9ca3-1f04d62eaf62",
   "metadata": {},
   "source": [
    "\\begin{equation}\n",
    "   \\int_0^{\\pi/2}\\left(y''v\\right)dx = \\int_0^{\\pi/2}\\left((y')'v\\right)dx = y'v\\bigg|_0^{\\pi/2}-  \\int_0^{\\pi/2}\\left(y'v'\\right)dx \n",
    "\\end{equation}"
   ]
  },
  {
   "cell_type": "markdown",
   "id": "cb594e81-0514-4486-806a-f0293732cd07",
   "metadata": {},
   "source": [
    "Из условия что v - любая пробная функция\n",
    "\\begin{equation}\n",
    "y'v\\bigg|_0^{\\pi/2} = 0\n",
    "\\end{equation}"
   ]
  },
  {
   "cell_type": "markdown",
   "id": "68a2af57-ae78-40b7-8607-2560839b5983",
   "metadata": {},
   "source": [
    "\\begin{equation}\n",
    "   \\int_0^{\\pi/2}\\left(y''v\\right)dx =  -\\int_0^{\\pi/2}\\left(y'v'\\right)dx \n",
    "\\end{equation}"
   ]
  },
  {
   "cell_type": "markdown",
   "id": "6509b7ca-ca94-4029-981e-4ce44ce89cd0",
   "metadata": {},
   "source": [
    "\\begin{equation}\n",
    "   -\\int_0^{\\pi/2}\\left(y'v'\\right)dx  +\\int_0^{\\pi/2}\\left(yv\\right) dx = \\int_0^{\\pi/2}vdx\n",
    "\\end{equation}"
   ]
  },
  {
   "cell_type": "markdown",
   "id": "80ca553a-1d22-4095-b48f-3f43a0c7c000",
   "metadata": {},
   "source": [
    "билинейная форма\n",
    "\\begin{equation}\n",
    "    a(y,v)=\\int_0^{\\pi/2}\\left(-\\left(y'v'\\right)+yv\\right) dx \n",
    "\\end{equation}"
   ]
  },
  {
   "cell_type": "markdown",
   "id": "60ed5ec3-f022-4b12-a060-9c1ae4508bbf",
   "metadata": {},
   "source": [
    "\n",
    "\\begin{equation}\n",
    "   (f,v) = \\int_0^{\\pi/2}vdx\n",
    "\\end{equation}"
   ]
  },
  {
   "cell_type": "markdown",
   "id": "aeb1b731-9fcf-44b4-aecb-4f5dc64e20a5",
   "metadata": {},
   "source": [
    "Базисные функции в МКЭ    "
   ]
  },
  {
   "cell_type": "markdown",
   "id": "4a4381dc-2a93-4334-9164-0480d6b64b7b",
   "metadata": {},
   "source": [
    "\\begin{equation*}\n",
    "\\psi_i(x) = \n",
    " \\begin{cases}\n",
    "   \\frac{x-x_{i-1}}{h} &\\text{, $x\\in[x_{i-1},x_i]$}\n",
    "   \\\\\n",
    "   \\frac{x_{i+1}-x}{h}  &\\text{, $x\\in[x_i,x_{i+1}]$}\n",
    "   \\\\\n",
    "   0 &\\text{, $x\\notin[x_i,x_{i+1}]$}\n",
    " \\end{cases}\n",
    "\\end{equation*}"
   ]
  },
  {
   "cell_type": "markdown",
   "id": "b43e3feb-cff3-49dd-ab88-023abaed3931",
   "metadata": {},
   "source": [
    "Решение задачи в виде линейной комбинации базисных функций"
   ]
  },
  {
   "cell_type": "markdown",
   "id": "053548c6-1fdf-4bd5-b6ad-9a06ab981cb1",
   "metadata": {},
   "source": [
    "Функции линейно независимы и образуют базис в пространстве Соболева"
   ]
  },
  {
   "cell_type": "markdown",
   "id": "e13b47d4-4114-410f-9226-aa8ddf5483b9",
   "metadata": {},
   "source": [
    "\\begin{equation}\n",
    "y(x) = \\sum_{i=0}^N a_i \\phi_i(x)\n",
    "\\end{equation}"
   ]
  },
  {
   "cell_type": "markdown",
   "id": "6ac5d906-4943-467b-ba69-a077da7c7efd",
   "metadata": {},
   "source": [
    "Согласно методу Ритца"
   ]
  },
  {
   "cell_type": "markdown",
   "id": "8560a512-eb23-4bcb-a08e-4f6b9b05252e",
   "metadata": {},
   "source": [
    "\\begin{equation}\n",
    "Ay = f\n",
    "\\end{equation}\n",
    "Решение задачи - это, поиск минимума следующего функционала:\n",
    "\\begin{equation}\n",
    "\\Phi(x) = (Ay,y) - 2(f,y)\n",
    "\\end{equation}"
   ]
  },
  {
   "cell_type": "markdown",
   "id": "c1f0436e-ae96-4883-bfad-53b1bbeb38d5",
   "metadata": {},
   "source": [
    "\\begin{equation}\n",
    "\\Phi(x) = (A\\sum_{i=0}^N a_i \\phi_i(x),\\sum_{j=0}^N a_j \\phi_j(x)) - 2(f,\\sum_{i=0}^N a_i \\phi_i(x))\n",
    "\\end{equation}"
   ]
  },
  {
   "cell_type": "markdown",
   "id": "d1afef6a-eef2-428d-9985-29c783bd85a7",
   "metadata": {},
   "source": [
    "\\begin{equation}\n",
    "\\Phi(x) = (A\\sum_{i=0}^N a_i \\phi_i(x),\\sum_{j=0}^N a_j \\phi_j(x)) - 2\\sum_{i=0}^N a_i (f,\\phi_i(x))\n",
    "\\end{equation}"
   ]
  },
  {
   "cell_type": "markdown",
   "id": "deb8a4f4-36f9-4052-be80-faf25c555328",
   "metadata": {},
   "source": [
    "\\begin{equation}\n",
    "\\Phi(x) = \\sum_{i=0}^N \\sum_{j=0}^N a_i  a_j(A \\phi_i(x), \\phi_j(x)) - 2\\sum_{i=0}^N a_i (f,\\phi_i(x))\n",
    "\\end{equation}"
   ]
  },
  {
   "cell_type": "markdown",
   "id": "e6ec87fd-4e1a-42ba-b3ad-1a6d2cfd1193",
   "metadata": {},
   "source": [
    "Необходимые условия минимума"
   ]
  },
  {
   "cell_type": "markdown",
   "id": "29e9b929-9fb6-4017-b0e4-89a403b72e5a",
   "metadata": {},
   "source": [
    "\\begin{equation}\n",
    "\\frac{\\partial\\Phi(x)}{\\partial a_i} = 2\\sum_{j=0}^N a_j(A \\phi_i(x), \\phi_j(x)) - 2(f,\\phi_i(x)) = 0\n",
    "\\end{equation}"
   ]
  },
  {
   "cell_type": "markdown",
   "id": "956282f3-d805-40d0-bde8-7312820aef8d",
   "metadata": {},
   "source": [
    "Откуда получаем СЛАУ:\n",
    "\\begin{equation}\n",
    "\\sum_{j=0}^N a_j(A \\phi_i(x), \\phi_j(x)) = (f,\\phi_i(x))\n",
    "\\end{equation}\n",
    "\\begin{equation}\n",
    "i = 0..N\n",
    "\\end{equation}"
   ]
  },
  {
   "cell_type": "markdown",
   "id": "b4448cb0-c191-4381-ae53-e891347f4d4d",
   "metadata": {},
   "source": [
    "\\begin{equation}\n",
    "    (A \\phi_i(x), \\phi_j(x)) = \\int_0^{\\pi/2}\\left(-\\phi_i(x)'\\phi_j(x)'+\\phi_i(x)\\phi_j(x)\\right) dx \n",
    "\\end{equation}"
   ]
  },
  {
   "cell_type": "markdown",
   "id": "88d79c8e-baf6-4435-8d85-ff467c7a8ed0",
   "metadata": {},
   "source": [
    "\\begin{equation}\n",
    "    (f,\\phi_i(x)) = \\int_0^{\\pi/2}\\left(f\\phi_i(x)\\right) dx \n",
    "\\end{equation}"
   ]
  },
  {
   "cell_type": "code",
   "execution_count": 277,
   "id": "a5018a78-0529-44d3-8fd9-e603dbf1d89b",
   "metadata": {},
   "outputs": [],
   "source": [
    "N = 8\n",
    "x = np.linspace(0,np.pi/2, N)\n",
    "dx = x[1]-x[0]\n",
    "h = dx\n",
    "y = -np.sin(x) - np.cos(x) + 1"
   ]
  },
  {
   "cell_type": "markdown",
   "id": "43d6401c-dabb-499d-b806-f793536df2f6",
   "metadata": {},
   "source": [
    "Определение базисной функции конечного одномерного элемента, замечательное свойство что такие функции почти всюду ортогональны и образуют 3х диагональную матрицу при решении соответствующей СЛАУ  "
   ]
  },
  {
   "cell_type": "code",
   "execution_count": 301,
   "id": "7968c551-9ea2-442b-bdb7-762df8ec16a7",
   "metadata": {},
   "outputs": [],
   "source": [
    "def psi(x_i, x, i, N, h):\n",
    "    \"\"\"x - array, i - num of x and function psi_i(x_i), пробная(базисная) функция\"\"\"\n",
    "    if i == 0:\n",
    "        if x_i >= x[i] and x_i <= x[i+1]:\n",
    "            return (x[i+1] - x_i) / h\n",
    "        elif x_i >= x[i+1]:\n",
    "            return 0\n",
    "        \n",
    "    elif i == N:\n",
    "        if x_i >= x[i-1] and x_i <= x[N]:\n",
    "            return (x_i - x[N-1]) / h\n",
    "        else:\n",
    "            return 0\n",
    "    else:        \n",
    "        if x_i <= x[i-1]:\n",
    "            return 0\n",
    "        elif x_i >= x[i-1] and x_i <= x[i]:\n",
    "            return (x_i - x[i-1]) / h\n",
    "        elif x_i >= x[i] and x_i <= x[i+1]:\n",
    "            return (x[i+1] - x_i) / h\n",
    "        else:\n",
    "            return 0\n",
    "    \n"
   ]
  },
  {
   "cell_type": "markdown",
   "id": "2baa66b6-191d-4b26-8a9c-690d6b45272f",
   "metadata": {},
   "source": [
    "Определение функционала правой части"
   ]
  },
  {
   "cell_type": "code",
   "execution_count": 302,
   "id": "423680ce-4385-4fa5-a870-f1f788007a05",
   "metadata": {},
   "outputs": [],
   "source": [
    "def right_part(i,f,h,N,x):\n",
    "    psi_i = np.zeros((N))\n",
    "    for n in range(0,N):\n",
    "        psi_i[n] = psi(x[n], x, i, N, h)\n",
    "    return sum(psi_i*f)*h"
   ]
  },
  {
   "cell_type": "markdown",
   "id": "269ccd19-b844-4061-8754-a1b187ba18bc",
   "metadata": {},
   "source": [
    "Определение функционала билинейной формы"
   ]
  },
  {
   "cell_type": "code",
   "execution_count": 303,
   "id": "54619356-69a6-4d41-9088-a7a0bf50cf1d",
   "metadata": {},
   "outputs": [],
   "source": [
    "def bilinform(i,j,x,h,N):\n",
    "    psi_i = np.zeros((N))\n",
    "    psi_j = np.zeros((N))\n",
    "    diff_psi_i = np.zeros((N))\n",
    "    diff_psi_j = np.zeros((N))\n",
    "    for n in range(0,N):\n",
    "        psi_i[n] = psi(x[n], x, i, N, h)\n",
    "        # print(psi(x[n], x, i, N, h))\n",
    "        psi_j[n] = psi(x[n], x, j, N, h)\n",
    "    diff_psi_i[1:] = np.diff(psi_i)/h\n",
    "    diff_psi_j[1:] = np.diff(psi_j)/h\n",
    "    # print(psi_j)\n",
    "    return sum(-(diff_psi_i*diff_psi_j) + psi_i*psi_j)*h"
   ]
  },
  {
   "cell_type": "markdown",
   "id": "a1a2e246-fd81-49bd-8357-d80a79bfffe4",
   "metadata": {},
   "source": [
    "вычисления соответствующих функционалов"
   ]
  },
  {
   "cell_type": "code",
   "execution_count": 304,
   "id": "511ab080-63ee-4a8b-9083-b6ad888f60aa",
   "metadata": {},
   "outputs": [],
   "source": [
    "BFM = np.zeros((N,N))\n",
    "rp = np.zeros((N))\n",
    "for i in range(0, N):\n",
    "    rp[i] = right_part(i,1,h,N,x)\n",
    "    for j in range(0, N):\n",
    "        BFM[i,j] = bilinform(i,j,x,h,N)\n",
    "               "
   ]
  },
  {
   "cell_type": "markdown",
   "id": "f81f479d-1246-40c4-9786-b5458b0648b9",
   "metadata": {},
   "source": [
    "обозначение краевых условия в базисных функциях $a_0 = a_N = 0$"
   ]
  },
  {
   "cell_type": "code",
   "execution_count": 305,
   "id": "96a5e235-465d-4ba8-8495-3b232e067cc1",
   "metadata": {},
   "outputs": [],
   "source": [
    "rp[0] = 0\n",
    "rp[-1] = 0"
   ]
  },
  {
   "cell_type": "code",
   "execution_count": 306,
   "id": "46679f5b-2dfe-49b4-9b03-7284675bd59d",
   "metadata": {},
   "outputs": [],
   "source": [
    "BFM[0,1] = 0\n",
    "BFM[1,0] = 0\n",
    "BFM[N-2,N-1] = 0\n",
    "BFM[N-1,N-2] = 0"
   ]
  },
  {
   "cell_type": "markdown",
   "id": "f44f40ff-8737-47c8-9223-e60baa98237e",
   "metadata": {},
   "source": [
    "Графическое отображение элементов разряженной матрицы коэффициентов СЛАУ "
   ]
  },
  {
   "cell_type": "code",
   "execution_count": 308,
   "id": "f6d6f828-617f-4960-828b-b7b575eb3975",
   "metadata": {},
   "outputs": [
    {
     "data": {
      "text/plain": [
       "<matplotlib.image.AxesImage at 0x24ac6f0c650>"
      ]
     },
     "execution_count": 308,
     "metadata": {},
     "output_type": "execute_result"
    },
    {
     "data": {
      "image/png": "[encoded data removed]",
      "text/plain": [
       "<Figure size 640x480 with 1 Axes>"
      ]
     },
     "metadata": {},
     "output_type": "display_data"
    }
   ],
   "source": [
    "plt.imshow(BFM)"
   ]
  },
  {
   "cell_type": "markdown",
   "id": "ebb9e026-ec1f-4e5c-ae04-b6351cdfbfd9",
   "metadata": {},
   "source": [
    "Решение СЛАУ и вычисления коэффициентов разложения "
   ]
  },
  {
   "cell_type": "code",
   "execution_count": 309,
   "id": "2300779e-bb81-470f-b489-64934fac23f6",
   "metadata": {},
   "outputs": [],
   "source": [
    "a_y = np.linalg.solve(BFM, rp)"
   ]
  },
  {
   "cell_type": "code",
   "execution_count": 320,
   "id": "3f2b247a-b539-4fe6-a7a2-e6aaf9aabafd",
   "metadata": {},
   "outputs": [],
   "source": [
    "psi_vec = np.zeros((N,N))\n",
    "y_numeric = np.zeros((N))\n",
    "\n",
    "for i in range(0, N):\n",
    "    for n in range(0,N):\n",
    "        psi_vec[i,n] = psi(x[i], x, n, N, h)"
   ]
  },
  {
   "cell_type": "markdown",
   "id": "b45dfdd5-8762-4c03-a481-77de69d6e2f2",
   "metadata": {},
   "source": [
    "График базисных функций, соответствующих решению "
   ]
  },
  {
   "cell_type": "code",
   "execution_count": 321,
   "id": "9a92407a-a336-4bd6-85cd-6dc5bbe3b860",
   "metadata": {
    "scrolled": true
   },
   "outputs": [
    {
     "data": {
      "text/plain": [
       "[<matplotlib.lines.Line2D at 0x24ac827ad10>,\n",
       " <matplotlib.lines.Line2D at 0x24ac64bca10>,\n",
       " <matplotlib.lines.Line2D at 0x24ac827b4d0>,\n",
       " <matplotlib.lines.Line2D at 0x24ac827b810>,\n",
       " <matplotlib.lines.Line2D at 0x24ac80f3cd0>,\n",
       " <matplotlib.lines.Line2D at 0x24ac8284050>,\n",
       " <matplotlib.lines.Line2D at 0x24ac824f1d0>,\n",
       " <matplotlib.lines.Line2D at 0x24ac82848d0>]"
      ]
     },
     "execution_count": 321,
     "metadata": {},
     "output_type": "execute_result"
    },
    {
     "data": {
      "image/png": "[encoded data removed]",
      "text/plain": [
       "<Figure size 640x480 with 1 Axes>"
      ]
     },
     "metadata": {},
     "output_type": "display_data"
    }
   ],
   "source": [
    "plt.plot(a_y[:]*psi_vec[:,:])"
   ]
  },
  {
   "cell_type": "markdown",
   "id": "2617d6b4-26f5-4976-a93c-e89e1c99f64f",
   "metadata": {},
   "source": [
    "Вычисление приближенного решения через линейную комбинацию базисных функций и вычисленных коэффициентов разложения      "
   ]
  },
  {
   "cell_type": "code",
   "execution_count": 322,
   "id": "32d3adce-6093-40ce-a7e1-4519add362cb",
   "metadata": {},
   "outputs": [],
   "source": [
    "for i in range(0, N):\n",
    "    y_numeric[:] = y_numeric[:] + a_y[i] * psi_vec[i,:]"
   ]
  },
  {
   "cell_type": "code",
   "execution_count": 323,
   "id": "c25d002f-f67f-4cdf-89f8-0920b712d0a0",
   "metadata": {},
   "outputs": [
    {
     "data": {
      "text/plain": [
       "<matplotlib.legend.Legend at 0x24ac82c3bd0>"
      ]
     },
     "execution_count": 323,
     "metadata": {},
     "output_type": "execute_result"
    },
    {
     "data": {
      "image/png": "[encoded data removed]",
      "text/plain": [
       "<Figure size 640x480 with 1 Axes>"
      ]
     },
     "metadata": {},
     "output_type": "display_data"
    }
   ],
   "source": [
    "plt.plot(x, y_numeric, 'r', label='численное решение')\n",
    "plt.plot(x, y, 'b', label='аналитическое')\n",
    "plt.legend()"
   ]
  },
  {
   "cell_type": "markdown",
   "id": "cdf97da2-9bcc-4944-917f-9906589a7eb7",
   "metadata": {},
   "source": [
    "Невязка "
   ]
  },
  {
   "cell_type": "code",
   "execution_count": 324,
   "id": "e0fc6611-aee6-4d9d-b630-21b498b6e2b6",
   "metadata": {},
   "outputs": [
    {
     "data": {
      "text/plain": [
       "0.00229721314834902"
      ]
     },
     "execution_count": 324,
     "metadata": {},
     "output_type": "execute_result"
    }
   ],
   "source": [
    "y[4] - y_numeric[4]"
   ]
  },
  {
   "cell_type": "code",
   "execution_count": 325,
   "id": "578b3906-b712-465f-a52e-ff4f85b8f0de",
   "metadata": {},
   "outputs": [
    {
     "data": {
      "text/plain": [
       "0.002535638562942587"
      ]
     },
     "execution_count": 325,
     "metadata": {},
     "output_type": "execute_result"
    }
   ],
   "source": [
    "h**4"
   ]
  }
 ],
 "metadata": {
  "kernelspec": {
   "display_name": "Python 3 (ipykernel)",
   "language": "python",
   "name": "python3"
  },
  "language_info": {
   "codemirror_mode": {
    "name": "ipython",
    "version": 3
   },
   "file_extension": ".py",
   "mimetype": "text/x-python",
   "name": "python",
   "nbconvert_exporter": "python",
   "pygments_lexer": "ipython3",
   "version": "3.11.7"
  }
 },
 "nbformat": 4,
 "nbformat_minor": 5
}
